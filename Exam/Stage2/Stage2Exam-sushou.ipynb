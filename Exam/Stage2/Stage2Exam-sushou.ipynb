{
 "cells": [
  {
   "cell_type": "markdown",
   "metadata": {},
   "source": [
    "## 七月在线机器学习第九期第二阶段考试\n",
    "#### 考试说明:\n",
    "- 起止时间：请同学在2018年7月11日至7月18日期间完成，最晚提交时间（7月18日24时之前）结束，<b>逾期不接受补考,该考试分数计入平时成绩</b>\n",
    "- 考试方式：请同学将该试卷进行复制后，改名为自己姓名后，如State2Exam-WangWei.ipynb，<b>移动</b>至/0.Teacher/Exam/Stage2/目录下后，进行答题。\n",
    "- 注意事项：为确保同学们真正了解自身对本周课程的掌握程度，<font color=red><b>请勿翻阅，移动，更改</b></font>其它同学试卷。如发现按0分处理\n",
    "- 请同学在下方同学姓名处填写自己的姓名，批改人和最终得分不用填写"
   ]
  },
  {
   "cell_type": "markdown",
   "metadata": {},
   "source": [
    "- 同学姓名:苏收\n",
    "- 批改人：   \n",
    "- 最终得分:"
   ]
  },
  {
   "cell_type": "markdown",
   "metadata": {},
   "source": [
    "<center><h1>####答卷开始####</h1></center>\n",
    "<hr>"
   ]
  },
  {
   "cell_type": "markdown",
   "metadata": {},
   "source": [
    "## 问答题(共5题，每题10分，共计50分)"
   ]
  },
  {
   "cell_type": "markdown",
   "metadata": {},
   "source": [
    "#### 1. 请写出你了解的机器学习特征工程操作都有哪些，及它们的具体实现？"
   ]
  },
  {
   "cell_type": "markdown",
   "metadata": {
    "collapsed": true
   },
   "source": [
    "机器学习的特征工程操作，主要包括特征处理、和特征选择两个部分。   \n",
    "其中，\n",
    "#### 特征处理\n",
    "根据特征类型（数值、类别、时间、文本、统计、组合型特征）有不同的特征处理方法，   \n",
    "数值型特征：可以进行幅度缩放，计算统计参数、离散化成多个区间等处理方式；   \n",
    "类别型特征：可以采用One-Hot向量编码，进行正交化；   \n",
    "时间型特征：可以离散化，也可以抽取年、月、日、周等作为特征；   \n",
    "文本型特征：可以采用词袋模型或n-gram方法切割文本，提取特征，还可以使用TF-idf特征；   \n",
    "统计特征：  可以人为提取数据集的一些统计学规律，作为特征使用，如购物转化率、商品的热度、排名等统计信息；   \n",
    "组合特征：  可以人为对多个特征进行组合，也可以采用树模型进行特征组合。\n",
    "\n",
    "#### 特征选取\n",
    "采用过滤方法、包裹型或嵌入型方法，选取最重要的部分特征。\n",
    "过滤方法：评估特征与结果相关程度，并排序，选取排序靠前的特征。\n",
    "包裹型：递归删除部分弱特征，直到准确率或auc大幅度下滑为止，或选取特征子集进行评估，选取最优子集\n",
    "嵌入型：根据模型来分析特征的重要性（比如根据产生的模型权重等）。"
   ]
  },
  {
   "cell_type": "markdown",
   "metadata": {},
   "source": [
    "#### 2.模型评估中的留一法，留出法，交叉验证分别是什么操作？"
   ]
  },
  {
   "cell_type": "markdown",
   "metadata": {
    "collapsed": true
   },
   "source": [
    "1、留出法（hold out）：将数据集 D 划分为训练集 S 和测试集 T；   \n",
    "2、留一法：留一法是留出法的特例，即每次测试集 T 只留一个数据，剩下的作为训练集 S；  \n",
    "3、交叉验证：将数据集D划分成训练集、验证集和测试集。  \n",
    "   其中验证集用于参数和模型选择，可反复使用。\n",
    "   测试集仅用于模型效果评估，只可使用一次。"
   ]
  },
  {
   "cell_type": "markdown",
   "metadata": {},
   "source": [
    "#### 3.网格搜索交叉验证的作用是什么，并简述网格搜索交叉验证是如何运行的？"
   ]
  },
  {
   "cell_type": "markdown",
   "metadata": {
    "collapsed": true
   },
   "source": [
    "网格搜索交叉交叉验证可以系统的遍历多种参数组合，并通过交叉验证评估筛选出最优的参数组合。   \n",
    "运行方式分成两步：  \n",
    "1、网格搜索，人为给出需要修改的模型参数后，程序遍历各种参数组合，  \n",
    "2、没产生一种参数组合，意味着生成了一个新的模型，对每个模型，将数据集分成训练集、验证集和测试集后评估模型，以  \n",
    "选取最优模型。\n"
   ]
  },
  {
   "cell_type": "markdown",
   "metadata": {},
   "source": [
    "#### 4.工业界上模型融合有三大类方式？试简述每类方式其思想？"
   ]
  },
  {
   "cell_type": "markdown",
   "metadata": {
    "collapsed": true
   },
   "source": [
    "##### 1、bagging ，随机森林\n",
    "通过抽取数据子集，基于同一个算法，训练多个模型，最后通过投票或平均的方式产生预测结果。或基于不同算法，采用过个模型结果的投票或平均值。\n",
    "##### 2、 stacking\n",
    "使用多种模型（LR，SVM，DT等）预测的结果作为特征，训练一个新的模型（模型2），采用模型2的预测结果。\n",
    "##### 3、 Adaboost 和GBDT\n",
    "通过重复迭代和训练、给分错的样本分配更高的权重、多个简单模型融合的方式改善模型效果。"
   ]
  },
  {
   "cell_type": "markdown",
   "metadata": {},
   "source": [
    "#### 5.Early Stopping指的是什么？与它相关的概念有哪些？它们在实际项目中如何被运用？"
   ]
  },
  {
   "cell_type": "markdown",
   "metadata": {
    "collapsed": true
   },
   "source": [
    "Early stopping便是一种迭代次数截断的方法来防止过拟合的方法，即在模型对训练数据集迭代收敛之前停止迭代来防止过拟合。   \n",
    "与之相关的概念有损失函数，L1正则和L2正则等。  \n",
    "##### 运用方式\n",
    "early stopping：一种基本的做法是，在每一个Epoch结束时（一个Epoch集为对所有的训练数据的一轮遍历）计算validation data的accuracy，当accuracy不再提高时，就停止训练。  \n",
    "L1和L2正则：是通过在损失函数中加入相应的惩罚项（正则项），防止模型变得复杂或模型参数幅度过大。"
   ]
  },
  {
   "cell_type": "markdown",
   "metadata": {},
   "source": [
    "## 代码题(共1题，共计50分)"
   ]
  },
  {
   "cell_type": "markdown",
   "metadata": {
    "collapsed": true
   },
   "source": [
    "#### 1.使用XGBoost的sklearn接口，对KaggleCredit2数据完成信用卡欺诈项目的建模及分析\n",
    "- 要求以不同参数设置xgboost运行并进行效果比对,记录，最后给出实验报告\n",
    "\n",
    "- KaggleCredit2数据文件 位于/home/ml9/0.Teacher/Data，请勿复制或移动"
   ]
  },
  {
   "cell_type": "markdown",
   "metadata": {},
   "source": [
    "###### 1.读取数据文件"
   ]
  },
  {
   "cell_type": "code",
   "execution_count": 1,
   "metadata": {},
   "outputs": [
    {
     "data": {
      "text/html": [
       "<div>\n",
       "<style scoped>\n",
       "    .dataframe tbody tr th:only-of-type {\n",
       "        vertical-align: middle;\n",
       "    }\n",
       "\n",
       "    .dataframe tbody tr th {\n",
       "        vertical-align: top;\n",
       "    }\n",
       "\n",
       "    .dataframe thead th {\n",
       "        text-align: right;\n",
       "    }\n",
       "</style>\n",
       "<table border=\"1\" class=\"dataframe\">\n",
       "  <thead>\n",
       "    <tr style=\"text-align: right;\">\n",
       "      <th></th>\n",
       "      <th>SeriousDlqin2yrs</th>\n",
       "      <th>RevolvingUtilizationOfUnsecuredLines</th>\n",
       "      <th>age</th>\n",
       "      <th>NumberOfTime30-59DaysPastDueNotWorse</th>\n",
       "      <th>DebtRatio</th>\n",
       "      <th>MonthlyIncome</th>\n",
       "      <th>NumberOfOpenCreditLinesAndLoans</th>\n",
       "      <th>NumberOfTimes90DaysLate</th>\n",
       "      <th>NumberRealEstateLoansOrLines</th>\n",
       "      <th>NumberOfTime60-89DaysPastDueNotWorse</th>\n",
       "      <th>NumberOfDependents</th>\n",
       "    </tr>\n",
       "  </thead>\n",
       "  <tbody>\n",
       "    <tr>\n",
       "      <th>0</th>\n",
       "      <td>1</td>\n",
       "      <td>0.766127</td>\n",
       "      <td>45.0</td>\n",
       "      <td>2.0</td>\n",
       "      <td>0.802982</td>\n",
       "      <td>9120.0</td>\n",
       "      <td>13.0</td>\n",
       "      <td>0.0</td>\n",
       "      <td>6.0</td>\n",
       "      <td>0.0</td>\n",
       "      <td>2.0</td>\n",
       "    </tr>\n",
       "    <tr>\n",
       "      <th>1</th>\n",
       "      <td>0</td>\n",
       "      <td>0.957151</td>\n",
       "      <td>40.0</td>\n",
       "      <td>0.0</td>\n",
       "      <td>0.121876</td>\n",
       "      <td>2600.0</td>\n",
       "      <td>4.0</td>\n",
       "      <td>0.0</td>\n",
       "      <td>0.0</td>\n",
       "      <td>0.0</td>\n",
       "      <td>1.0</td>\n",
       "    </tr>\n",
       "    <tr>\n",
       "      <th>2</th>\n",
       "      <td>0</td>\n",
       "      <td>0.658180</td>\n",
       "      <td>38.0</td>\n",
       "      <td>1.0</td>\n",
       "      <td>0.085113</td>\n",
       "      <td>3042.0</td>\n",
       "      <td>2.0</td>\n",
       "      <td>1.0</td>\n",
       "      <td>0.0</td>\n",
       "      <td>0.0</td>\n",
       "      <td>0.0</td>\n",
       "    </tr>\n",
       "    <tr>\n",
       "      <th>3</th>\n",
       "      <td>0</td>\n",
       "      <td>0.233810</td>\n",
       "      <td>30.0</td>\n",
       "      <td>0.0</td>\n",
       "      <td>0.036050</td>\n",
       "      <td>3300.0</td>\n",
       "      <td>5.0</td>\n",
       "      <td>0.0</td>\n",
       "      <td>0.0</td>\n",
       "      <td>0.0</td>\n",
       "      <td>0.0</td>\n",
       "    </tr>\n",
       "    <tr>\n",
       "      <th>4</th>\n",
       "      <td>0</td>\n",
       "      <td>0.907239</td>\n",
       "      <td>49.0</td>\n",
       "      <td>1.0</td>\n",
       "      <td>0.024926</td>\n",
       "      <td>63588.0</td>\n",
       "      <td>7.0</td>\n",
       "      <td>0.0</td>\n",
       "      <td>1.0</td>\n",
       "      <td>0.0</td>\n",
       "      <td>0.0</td>\n",
       "    </tr>\n",
       "  </tbody>\n",
       "</table>\n",
       "</div>"
      ],
      "text/plain": [
       "   SeriousDlqin2yrs  RevolvingUtilizationOfUnsecuredLines   age  \\\n",
       "0                 1                              0.766127  45.0   \n",
       "1                 0                              0.957151  40.0   \n",
       "2                 0                              0.658180  38.0   \n",
       "3                 0                              0.233810  30.0   \n",
       "4                 0                              0.907239  49.0   \n",
       "\n",
       "   NumberOfTime30-59DaysPastDueNotWorse  DebtRatio  MonthlyIncome  \\\n",
       "0                                   2.0   0.802982         9120.0   \n",
       "1                                   0.0   0.121876         2600.0   \n",
       "2                                   1.0   0.085113         3042.0   \n",
       "3                                   0.0   0.036050         3300.0   \n",
       "4                                   1.0   0.024926        63588.0   \n",
       "\n",
       "   NumberOfOpenCreditLinesAndLoans  NumberOfTimes90DaysLate  \\\n",
       "0                             13.0                      0.0   \n",
       "1                              4.0                      0.0   \n",
       "2                              2.0                      1.0   \n",
       "3                              5.0                      0.0   \n",
       "4                              7.0                      0.0   \n",
       "\n",
       "   NumberRealEstateLoansOrLines  NumberOfTime60-89DaysPastDueNotWorse  \\\n",
       "0                           6.0                                   0.0   \n",
       "1                           0.0                                   0.0   \n",
       "2                           0.0                                   0.0   \n",
       "3                           0.0                                   0.0   \n",
       "4                           1.0                                   0.0   \n",
       "\n",
       "   NumberOfDependents  \n",
       "0                 2.0  \n",
       "1                 1.0  \n",
       "2                 0.0  \n",
       "3                 0.0  \n",
       "4                 0.0  "
      ]
     },
     "execution_count": 1,
     "metadata": {},
     "output_type": "execute_result"
    }
   ],
   "source": [
    "import pandas as pd\n",
    "pd.set_option('display.max_columns', 500)\n",
    "import zipfile\n",
    "with zipfile.ZipFile('KaggleCredit2.csv.zip', 'r') as z:\n",
    "    f = z.open('KaggleCredit2.csv')\n",
    "    data = pd.read_csv(f, index_col=0)\n",
    "data.head()"
   ]
  },
  {
   "cell_type": "markdown",
   "metadata": {},
   "source": [
    "##### 2.处理空数值|"
   ]
  },
  {
   "cell_type": "code",
   "execution_count": 2,
   "metadata": {},
   "outputs": [
    {
     "data": {
      "text/plain": [
       "SeriousDlqin2yrs                           0\n",
       "RevolvingUtilizationOfUnsecuredLines       0\n",
       "age                                     4267\n",
       "NumberOfTime30-59DaysPastDueNotWorse       0\n",
       "DebtRatio                                  0\n",
       "MonthlyIncome                              0\n",
       "NumberOfOpenCreditLinesAndLoans            0\n",
       "NumberOfTimes90DaysLate                    0\n",
       "NumberRealEstateLoansOrLines               0\n",
       "NumberOfTime60-89DaysPastDueNotWorse       0\n",
       "NumberOfDependents                      4267\n",
       "dtype: int64"
      ]
     },
     "execution_count": 2,
     "metadata": {},
     "output_type": "execute_result"
    }
   ],
   "source": [
    "data.isnull().sum(axis=0)"
   ]
  },
  {
   "cell_type": "code",
   "execution_count": 3,
   "metadata": {},
   "outputs": [
    {
     "data": {
      "text/plain": [
       "(108648, 11)"
      ]
     },
     "execution_count": 3,
     "metadata": {},
     "output_type": "execute_result"
    }
   ],
   "source": [
    "data.dropna(inplace=True)\n",
    "data.shape"
   ]
  },
  {
   "cell_type": "markdown",
   "metadata": {},
   "source": [
    "##### 3.设置特征和标签，并划分训练集和测试集"
   ]
  },
  {
   "cell_type": "code",
   "execution_count": 4,
   "metadata": {
    "collapsed": true
   },
   "outputs": [],
   "source": [
    "y = data['SeriousDlqin2yrs']\n",
    "X = data.drop('SeriousDlqin2yrs', axis=1)"
   ]
  },
  {
   "cell_type": "code",
   "execution_count": 5,
   "metadata": {
    "collapsed": true
   },
   "outputs": [],
   "source": [
    "import numpy as np\n",
    "msk = np.random.rand(len(data))  < 0.8\n",
    "X_train = X[msk]\n",
    "X_test = X[~msk]\n",
    "\n",
    "y_train = y[msk]\n",
    "y_test = y[~msk]"
   ]
  },
  {
   "cell_type": "code",
   "execution_count": 6,
   "metadata": {},
   "outputs": [
    {
     "name": "stdout",
     "output_type": "stream",
     "text": [
      "(87022, 10) (21626, 10)\n",
      "(87022,) (21626,)\n"
     ]
    }
   ],
   "source": [
    "print(X_train.shape,X_test.shape)\n",
    "print(y_train.shape,y_test.shape)"
   ]
  },
  {
   "cell_type": "markdown",
   "metadata": {},
   "source": [
    "##### 4.导入XGBClassfier，并采用默认参数进行训练"
   ]
  },
  {
   "cell_type": "code",
   "execution_count": 7,
   "metadata": {
    "collapsed": true
   },
   "outputs": [],
   "source": [
    "from xgboost.sklearn import XGBClassifier\n",
    "from sklearn import metrics"
   ]
  },
  {
   "cell_type": "code",
   "execution_count": 8,
   "metadata": {},
   "outputs": [
    {
     "data": {
      "text/plain": [
       "XGBClassifier(base_score=0.5, booster='gbtree', colsample_bylevel=1,\n",
       "       colsample_bytree=1, gamma=0, learning_rate=0.1, max_delta_step=0,\n",
       "       max_depth=5, min_child_weight=1, missing=None, n_estimators=1000,\n",
       "       n_jobs=1, nthread=None, objective='binary:logistic', random_state=0,\n",
       "       reg_alpha=0, reg_lambda=1, scale_pos_weight=1, seed=None,\n",
       "       silent=True, subsample=0.8)"
      ]
     },
     "execution_count": 8,
     "metadata": {},
     "output_type": "execute_result"
    }
   ],
   "source": [
    "xgbc = XGBClassifier(learning_rate=0.1,max_depth=5,subsample=0.8,\n",
    "                   n_estimators=1000 )\n",
    "xgbc.fit(X_train,y_train,eval_metric='auc')"
   ]
  },
  {
   "cell_type": "code",
   "execution_count": 9,
   "metadata": {},
   "outputs": [
    {
     "name": "stdout",
     "output_type": "stream",
     "text": [
      "训练集准确度：0.957562\n"
     ]
    }
   ],
   "source": [
    "print('训练集准确度：%f'%xgbc.score(X_train,y_train))"
   ]
  },
  {
   "cell_type": "code",
   "execution_count": 10,
   "metadata": {},
   "outputs": [
    {
     "data": {
      "text/plain": [
       "0.9354943124017386"
      ]
     },
     "execution_count": 10,
     "metadata": {},
     "output_type": "execute_result"
    }
   ],
   "source": [
    "y_predict = xgbc.predict(X_test)\n",
    "error_num = (y_predict != y_test).sum()\n",
    "probability = 1-float(error_num) / len(y_test)\n",
    "probability"
   ]
  },
  {
   "cell_type": "markdown",
   "metadata": {},
   "source": [
    "输出默认参数下的模型评估结果"
   ]
  },
  {
   "cell_type": "code",
   "execution_count": 11,
   "metadata": {
    "collapsed": true
   },
   "outputs": [],
   "source": [
    "from sklearn.metrics import  classification_report"
   ]
  },
  {
   "cell_type": "code",
   "execution_count": 12,
   "metadata": {},
   "outputs": [
    {
     "name": "stdout",
     "output_type": "stream",
     "text": [
      "             precision    recall  f1-score   support\n",
      "\n",
      "          0       0.94      0.99      0.97     20189\n",
      "          1       0.54      0.18      0.27      1437\n",
      "\n",
      "avg / total       0.92      0.94      0.92     21626\n",
      "\n"
     ]
    }
   ],
   "source": [
    "print(classification_report(y_test,y_predict,target_names=None, digits=2))"
   ]
  },
  {
   "cell_type": "markdown",
   "metadata": {},
   "source": [
    "##### 5.采用网格搜索，寻求xgboost最优的参数配置"
   ]
  },
  {
   "cell_type": "code",
   "execution_count": 13,
   "metadata": {},
   "outputs": [
    {
     "name": "stderr",
     "output_type": "stream",
     "text": [
      "C:\\Users\\shousunny\\AppData\\Local\\conda\\conda\\envs\\tensorflow\\lib\\site-packages\\sklearn\\cross_validation.py:41: DeprecationWarning: This module was deprecated in version 0.18 in favor of the model_selection module into which all the refactored classes and functions are moved. Also note that the interface of the new CV iterators are different from that of this module. This module will be removed in 0.20.\n",
      "  \"This module will be removed in 0.20.\", DeprecationWarning)\n",
      "C:\\Users\\shousunny\\AppData\\Local\\conda\\conda\\envs\\tensorflow\\lib\\site-packages\\sklearn\\grid_search.py:42: DeprecationWarning: This module was deprecated in version 0.18 in favor of the model_selection module into which all the refactored classes and functions are moved. This module will be removed in 0.20.\n",
      "  DeprecationWarning)\n"
     ]
    }
   ],
   "source": [
    "from sklearn import cross_validation\n",
    "from sklearn.grid_search import GridSearchCV"
   ]
  },
  {
   "cell_type": "markdown",
   "metadata": {},
   "source": [
    "##### 首先搜索了学习速度，和booster两个参数\n",
    "获得最优参数learning_rate = 0.07，  \n",
    "booster参数取gbliner是会报错，这里就只搜索学习速率了"
   ]
  },
  {
   "cell_type": "code",
   "execution_count": 14,
   "metadata": {
    "collapsed": true
   },
   "outputs": [],
   "source": [
    "param_test0 = {'learning_rate':[0.01*x for x in range(1,13,3)]}"
   ]
  },
  {
   "cell_type": "code",
   "execution_count": 15,
   "metadata": {
    "collapsed": true
   },
   "outputs": [],
   "source": [
    "gsearch0 = GridSearchCV(estimator=XGBClassifier( n_estimators=140, max_depth=3,\n",
    "min_child_weight=1, gamma=0, subsample=0.8,             colsample_bytree=0.8,\n",
    " objective= 'binary:logistic', nthread=4,     scale_pos_weight=1, seed=27),\n",
    "                       param_grid = param_test0,     scoring='roc_auc',n_jobs=4,iid=False, cv=5)"
   ]
  },
  {
   "cell_type": "code",
   "execution_count": 16,
   "metadata": {},
   "outputs": [
    {
     "data": {
      "text/plain": [
       "GridSearchCV(cv=5, error_score='raise',\n",
       "       estimator=XGBClassifier(base_score=0.5, booster='gbtree', colsample_bylevel=1,\n",
       "       colsample_bytree=0.8, gamma=0, learning_rate=0.1, max_delta_step=0,\n",
       "       max_depth=3, min_child_weight=1, missing=None, n_estimators=140,\n",
       "       n_jobs=1, nthread=4, objective='binary:logistic', random_state=0,\n",
       "       reg_alpha=0, reg_lambda=1, scale_pos_weight=1, seed=27, silent=True,\n",
       "       subsample=0.8),\n",
       "       fit_params={}, iid=False, n_jobs=4,\n",
       "       param_grid={'learning_rate': [0.01, 0.04, 0.07, 0.1]},\n",
       "       pre_dispatch='2*n_jobs', refit=True, scoring='roc_auc', verbose=0)"
      ]
     },
     "execution_count": 16,
     "metadata": {},
     "output_type": "execute_result"
    }
   ],
   "source": [
    "gsearch0.fit(X_train,y_train)"
   ]
  },
  {
   "cell_type": "code",
   "execution_count": 17,
   "metadata": {},
   "outputs": [
    {
     "data": {
      "text/plain": [
       "([mean: 0.84845, std: 0.00460, params: {'learning_rate': 0.01},\n",
       "  mean: 0.85458, std: 0.00538, params: {'learning_rate': 0.04},\n",
       "  mean: 0.85675, std: 0.00559, params: {'learning_rate': 0.07},\n",
       "  mean: 0.85709, std: 0.00564, params: {'learning_rate': 0.1}],\n",
       " {'learning_rate': 0.1},\n",
       " 0.8570887204453717)"
      ]
     },
     "execution_count": 17,
     "metadata": {},
     "output_type": "execute_result"
    }
   ],
   "source": [
    "gsearch0.grid_scores_,gsearch0.best_params_,gsearch0.best_score_"
   ]
  },
  {
   "cell_type": "markdown",
   "metadata": {},
   "source": [
    "##### 其次搜索树的深度和min_child_weight两个参数"
   ]
  },
  {
   "cell_type": "code",
   "execution_count": 18,
   "metadata": {
    "collapsed": true
   },
   "outputs": [],
   "source": [
    "#测试，选取树的深度和min_child_weight参数，进行网格搜索\n",
    "param_test1 = {'max_depth':[x for x in range(3,10,2)],\n",
    "              'min_child_weight':[x for x in range(1,6,2)]}"
   ]
  },
  {
   "cell_type": "code",
   "execution_count": 19,
   "metadata": {
    "collapsed": true
   },
   "outputs": [],
   "source": [
    "gsearch1 = GridSearchCV(estimator=XGBClassifier(learning_rate =0.07, n_estimators=140, max_depth=5,\n",
    "min_child_weight=1, gamma=0, subsample=0.8,             colsample_bytree=0.8,\n",
    " objective= 'binary:logistic', nthread=4,     scale_pos_weight=1, seed=27),\n",
    "                       param_grid = param_test1,     scoring='roc_auc',n_jobs=4,iid=False, cv=5)"
   ]
  },
  {
   "cell_type": "code",
   "execution_count": 20,
   "metadata": {},
   "outputs": [
    {
     "data": {
      "text/plain": [
       "GridSearchCV(cv=5, error_score='raise',\n",
       "       estimator=XGBClassifier(base_score=0.5, booster='gbtree', colsample_bylevel=1,\n",
       "       colsample_bytree=0.8, gamma=0, learning_rate=0.07, max_delta_step=0,\n",
       "       max_depth=5, min_child_weight=1, missing=None, n_estimators=140,\n",
       "       n_jobs=1, nthread=4, objective='binary:logistic', random_state=0,\n",
       "       reg_alpha=0, reg_lambda=1, scale_pos_weight=1, seed=27, silent=True,\n",
       "       subsample=0.8),\n",
       "       fit_params={}, iid=False, n_jobs=4,\n",
       "       param_grid={'min_child_weight': [1, 3, 5], 'max_depth': [3, 5, 7, 9]},\n",
       "       pre_dispatch='2*n_jobs', refit=True, scoring='roc_auc', verbose=0)"
      ]
     },
     "execution_count": 20,
     "metadata": {},
     "output_type": "execute_result"
    }
   ],
   "source": [
    "gsearch1.fit(X_train,y_train)"
   ]
  },
  {
   "cell_type": "code",
   "execution_count": 21,
   "metadata": {},
   "outputs": [
    {
     "data": {
      "text/plain": [
       "([mean: 0.85675, std: 0.00559, params: {'min_child_weight': 1, 'max_depth': 3},\n",
       "  mean: 0.85687, std: 0.00563, params: {'min_child_weight': 3, 'max_depth': 3},\n",
       "  mean: 0.85683, std: 0.00566, params: {'min_child_weight': 5, 'max_depth': 3},\n",
       "  mean: 0.85675, std: 0.00586, params: {'min_child_weight': 1, 'max_depth': 5},\n",
       "  mean: 0.85679, std: 0.00613, params: {'min_child_weight': 3, 'max_depth': 5},\n",
       "  mean: 0.85696, std: 0.00613, params: {'min_child_weight': 5, 'max_depth': 5},\n",
       "  mean: 0.85421, std: 0.00633, params: {'min_child_weight': 1, 'max_depth': 7},\n",
       "  mean: 0.85443, std: 0.00620, params: {'min_child_weight': 3, 'max_depth': 7},\n",
       "  mean: 0.85480, std: 0.00615, params: {'min_child_weight': 5, 'max_depth': 7},\n",
       "  mean: 0.85031, std: 0.00629, params: {'min_child_weight': 1, 'max_depth': 9},\n",
       "  mean: 0.85080, std: 0.00609, params: {'min_child_weight': 3, 'max_depth': 9},\n",
       "  mean: 0.85136, std: 0.00594, params: {'min_child_weight': 5, 'max_depth': 9}],\n",
       " {'max_depth': 5, 'min_child_weight': 5},\n",
       " 0.856959727345186)"
      ]
     },
     "execution_count": 21,
     "metadata": {},
     "output_type": "execute_result"
    }
   ],
   "source": [
    "gsearch1.grid_scores_,gsearch1.best_params_,gsearch1.best_score_"
   ]
  },
  {
   "cell_type": "markdown",
   "metadata": {},
   "source": [
    "#####  进行了两轮搜索，发现n_estimators最佳参数为100，"
   ]
  },
  {
   "cell_type": "code",
   "execution_count": 22,
   "metadata": {
    "collapsed": true
   },
   "outputs": [],
   "source": [
    "param_test2 = {'n_estimators':[x for x in range(100,1600,300)]}"
   ]
  },
  {
   "cell_type": "code",
   "execution_count": 23,
   "metadata": {
    "collapsed": true
   },
   "outputs": [],
   "source": [
    "gsearch2 = GridSearchCV(estimator=XGBClassifier(learning_rate =0.07,  max_depth=5,\n",
    "min_child_weight=5, gamma=0, subsample=0.8,             colsample_bytree=0.8,\n",
    " objective= 'binary:logistic', nthread=4,     scale_pos_weight=1, seed=27),\n",
    "                       param_grid = param_test2,     scoring='roc_auc',n_jobs=4,iid=False, cv=5)"
   ]
  },
  {
   "cell_type": "code",
   "execution_count": 25,
   "metadata": {},
   "outputs": [
    {
     "data": {
      "text/plain": [
       "GridSearchCV(cv=5, error_score='raise',\n",
       "       estimator=XGBClassifier(base_score=0.5, booster='gbtree', colsample_bylevel=1,\n",
       "       colsample_bytree=0.8, gamma=0, learning_rate=0.07, max_delta_step=0,\n",
       "       max_depth=5, min_child_weight=5, missing=None, n_estimators=100,\n",
       "       n_jobs=1, nthread=4, objective='binary:logistic', random_state=0,\n",
       "       reg_alpha=0, reg_lambda=1, scale_pos_weight=1, seed=27, silent=True,\n",
       "       subsample=0.8),\n",
       "       fit_params={}, iid=False, n_jobs=4,\n",
       "       param_grid={'n_estimators': [100, 400, 700, 1000, 1300]},\n",
       "       pre_dispatch='2*n_jobs', refit=True, scoring='roc_auc', verbose=0)"
      ]
     },
     "execution_count": 25,
     "metadata": {},
     "output_type": "execute_result"
    }
   ],
   "source": [
    "gsearch2.fit(X_train,y_train)"
   ]
  },
  {
   "cell_type": "code",
   "execution_count": 26,
   "metadata": {},
   "outputs": [
    {
     "data": {
      "text/plain": [
       "([mean: 0.85694, std: 0.00604, params: {'n_estimators': 100},\n",
       "  mean: 0.85333, std: 0.00665, params: {'n_estimators': 400},\n",
       "  mean: 0.84938, std: 0.00729, params: {'n_estimators': 700},\n",
       "  mean: 0.84503, std: 0.00740, params: {'n_estimators': 1000},\n",
       "  mean: 0.84145, std: 0.00796, params: {'n_estimators': 1300}],\n",
       " {'n_estimators': 100},\n",
       " 0.856938234458168)"
      ]
     },
     "execution_count": 26,
     "metadata": {},
     "output_type": "execute_result"
    }
   ],
   "source": [
    "gsearch2.grid_scores_,gsearch2.best_params_,gsearch2.best_score_"
   ]
  },
  {
   "cell_type": "code",
   "execution_count": 27,
   "metadata": {
    "collapsed": true
   },
   "outputs": [],
   "source": [
    "param_test3 = {'n_estimators':[x for x in range(10,110,30)]}"
   ]
  },
  {
   "cell_type": "code",
   "execution_count": 33,
   "metadata": {
    "collapsed": true
   },
   "outputs": [],
   "source": [
    "gsearch3 = GridSearchCV(estimator=XGBClassifier(learning_rate =0.07,  max_depth=5,\n",
    "min_child_weight=5, gamma=0, subsample=0.8,             colsample_bytree=0.8,\n",
    " objective= 'binary:logistic', nthread=4,     scale_pos_weight=1, seed=27),\n",
    "                       param_grid = param_test3,     scoring='roc_auc',n_jobs=4,iid=False, cv=5)"
   ]
  },
  {
   "cell_type": "code",
   "execution_count": 34,
   "metadata": {},
   "outputs": [
    {
     "data": {
      "text/plain": [
       "GridSearchCV(cv=5, error_score='raise',\n",
       "       estimator=XGBClassifier(base_score=0.5, booster='gbtree', colsample_bylevel=1,\n",
       "       colsample_bytree=0.8, gamma=0, learning_rate=0.07, max_delta_step=0,\n",
       "       max_depth=5, min_child_weight=5, missing=None, n_estimators=100,\n",
       "       n_jobs=1, nthread=4, objective='binary:logistic', random_state=0,\n",
       "       reg_alpha=0, reg_lambda=1, scale_pos_weight=1, seed=27, silent=True,\n",
       "       subsample=0.8),\n",
       "       fit_params={}, iid=False, n_jobs=4,\n",
       "       param_grid={'n_estimators': [10, 40, 70, 100]},\n",
       "       pre_dispatch='2*n_jobs', refit=True, scoring='roc_auc', verbose=0)"
      ]
     },
     "execution_count": 34,
     "metadata": {},
     "output_type": "execute_result"
    }
   ],
   "source": [
    "gsearch3.fit(X_train,y_train)"
   ]
  },
  {
   "cell_type": "code",
   "execution_count": 45,
   "metadata": {},
   "outputs": [
    {
     "data": {
      "text/plain": [
       "([mean: 0.85083, std: 0.00405, params: {'n_estimators': 10},\n",
       "  mean: 0.85427, std: 0.00483, params: {'n_estimators': 40},\n",
       "  mean: 0.85621, std: 0.00554, params: {'n_estimators': 70},\n",
       "  mean: 0.85694, std: 0.00604, params: {'n_estimators': 100}],\n",
       " {'n_estimators': 100},\n",
       " 0.856938234458168)"
      ]
     },
     "execution_count": 45,
     "metadata": {},
     "output_type": "execute_result"
    }
   ],
   "source": [
    "gsearch3.grid_scores_,gsearch3.best_params_,gsearch3.best_score_"
   ]
  },
  {
   "cell_type": "markdown",
   "metadata": {},
   "source": [
    "##### gama参数调优\n",
    "最优参数为gama=0"
   ]
  },
  {
   "cell_type": "code",
   "execution_count": 42,
   "metadata": {
    "collapsed": true
   },
   "outputs": [],
   "source": [
    "param_test4={'gamma':[i/10.0 for i in range(0,5)]}"
   ]
  },
  {
   "cell_type": "code",
   "execution_count": 43,
   "metadata": {
    "collapsed": true
   },
   "outputs": [],
   "source": [
    "gsearch4 = GridSearchCV(estimator=XGBClassifier(learning_rate =0.07,  max_depth=5,\n",
    "min_child_weight=5, n_estimators=100, subsample=0.8,             colsample_bytree=0.8,\n",
    " objective= 'binary:logistic', nthread=4,     scale_pos_weight=1, seed=27),\n",
    "                       param_grid = param_test4,     scoring='roc_auc',n_jobs=4,iid=False, cv=5)"
   ]
  },
  {
   "cell_type": "code",
   "execution_count": 44,
   "metadata": {},
   "outputs": [
    {
     "data": {
      "text/plain": [
       "GridSearchCV(cv=5, error_score='raise',\n",
       "       estimator=XGBClassifier(base_score=0.5, booster='gbtree', colsample_bylevel=1,\n",
       "       colsample_bytree=0.8, gamma=0, learning_rate=0.07, max_delta_step=0,\n",
       "       max_depth=5, min_child_weight=5, missing=None, n_estimators=100,\n",
       "       n_jobs=1, nthread=4, objective='binary:logistic', random_state=0,\n",
       "       reg_alpha=0, reg_lambda=1, scale_pos_weight=1, seed=27, silent=True,\n",
       "       subsample=0.8),\n",
       "       fit_params={}, iid=False, n_jobs=4,\n",
       "       param_grid={'gamma': [0.0, 0.1, 0.2, 0.3, 0.4]},\n",
       "       pre_dispatch='2*n_jobs', refit=True, scoring='roc_auc', verbose=0)"
      ]
     },
     "execution_count": 44,
     "metadata": {},
     "output_type": "execute_result"
    }
   ],
   "source": [
    "gsearch4.fit(X_train,y_train)"
   ]
  },
  {
   "cell_type": "code",
   "execution_count": 46,
   "metadata": {},
   "outputs": [
    {
     "data": {
      "text/plain": [
       "([mean: 0.85694, std: 0.00604, params: {'gamma': 0.0},\n",
       "  mean: 0.85693, std: 0.00588, params: {'gamma': 0.1},\n",
       "  mean: 0.85691, std: 0.00591, params: {'gamma': 0.2},\n",
       "  mean: 0.85681, std: 0.00579, params: {'gamma': 0.3},\n",
       "  mean: 0.85670, std: 0.00597, params: {'gamma': 0.4}],\n",
       " {'gamma': 0.0},\n",
       " 0.856938234458168)"
      ]
     },
     "execution_count": 46,
     "metadata": {},
     "output_type": "execute_result"
    }
   ],
   "source": [
    "gsearch5.grid_scores_,gsearch4.best_params_,gsearch4.best_score_"
   ]
  },
  {
   "cell_type": "code",
   "execution_count": 48,
   "metadata": {
    "collapsed": true
   },
   "outputs": [],
   "source": [
    "param_test5 ={'subsample':[i/100.0 for i in range(75,90,5)],\n",
    "'colsample_bytree':[i/100.0 for i in range(75,90,5)]}"
   ]
  },
  {
   "cell_type": "code",
   "execution_count": 49,
   "metadata": {
    "collapsed": true
   },
   "outputs": [],
   "source": [
    "gsearch5 = GridSearchCV(estimator=XGBClassifier(learning_rate =0.07,  max_depth=5,\n",
    "min_child_weight=5, n_estimators=100,gamma=0.0,\n",
    " objective= 'binary:logistic', nthread=4,     scale_pos_weight=1, seed=27),\n",
    "                       param_grid = param_test5,     scoring='roc_auc',n_jobs=4,iid=False, cv=5)"
   ]
  },
  {
   "cell_type": "code",
   "execution_count": 50,
   "metadata": {},
   "outputs": [
    {
     "data": {
      "text/plain": [
       "GridSearchCV(cv=5, error_score='raise',\n",
       "       estimator=XGBClassifier(base_score=0.5, booster='gbtree', colsample_bylevel=1,\n",
       "       colsample_bytree=1, gamma=0.0, learning_rate=0.07, max_delta_step=0,\n",
       "       max_depth=5, min_child_weight=5, missing=None, n_estimators=100,\n",
       "       n_jobs=1, nthread=4, objective='binary:logistic', random_state=0,\n",
       "       reg_alpha=0, reg_lambda=1, scale_pos_weight=1, seed=27, silent=True,\n",
       "       subsample=1),\n",
       "       fit_params={}, iid=False, n_jobs=4,\n",
       "       param_grid={'colsample_bytree': [0.75, 0.8, 0.85], 'subsample': [0.75, 0.8, 0.85]},\n",
       "       pre_dispatch='2*n_jobs', refit=True, scoring='roc_auc', verbose=0)"
      ]
     },
     "execution_count": 50,
     "metadata": {},
     "output_type": "execute_result"
    }
   ],
   "source": [
    "gsearch5.fit(X_train,y_train)"
   ]
  },
  {
   "cell_type": "code",
   "execution_count": 51,
   "metadata": {},
   "outputs": [
    {
     "data": {
      "text/plain": [
       "([mean: 0.85689, std: 0.00580, params: {'subsample': 0.75, 'colsample_bytree': 0.75},\n",
       "  mean: 0.85649, std: 0.00558, params: {'subsample': 0.8, 'colsample_bytree': 0.75},\n",
       "  mean: 0.85649, std: 0.00583, params: {'subsample': 0.85, 'colsample_bytree': 0.75},\n",
       "  mean: 0.85674, std: 0.00609, params: {'subsample': 0.75, 'colsample_bytree': 0.8},\n",
       "  mean: 0.85694, std: 0.00604, params: {'subsample': 0.8, 'colsample_bytree': 0.8},\n",
       "  mean: 0.85643, std: 0.00613, params: {'subsample': 0.85, 'colsample_bytree': 0.8},\n",
       "  mean: 0.85674, std: 0.00609, params: {'subsample': 0.75, 'colsample_bytree': 0.85},\n",
       "  mean: 0.85694, std: 0.00604, params: {'subsample': 0.8, 'colsample_bytree': 0.85},\n",
       "  mean: 0.85643, std: 0.00613, params: {'subsample': 0.85, 'colsample_bytree': 0.85}],\n",
       " {'colsample_bytree': 0.8, 'subsample': 0.8},\n",
       " 0.856938234458168)"
      ]
     },
     "execution_count": 51,
     "metadata": {},
     "output_type": "execute_result"
    }
   ],
   "source": [
    "gsearch5.grid_scores_,gsearch5.best_params_,gsearch5.best_score_"
   ]
  },
  {
   "cell_type": "markdown",
   "metadata": {},
   "source": [
    "##### 正则参数搜索，\n",
    "搜索出来都是默认参数，这有意思吗。。。"
   ]
  },
  {
   "cell_type": "code",
   "execution_count": 57,
   "metadata": {
    "collapsed": true
   },
   "outputs": [],
   "source": [
    "param_test6 = {\n",
    " 'reg_alpha':[0, 0.001, 0.005, 0.01, 0.05]\n",
    "}"
   ]
  },
  {
   "cell_type": "code",
   "execution_count": 58,
   "metadata": {
    "collapsed": true
   },
   "outputs": [],
   "source": [
    "gsearch6 = GridSearchCV(estimator=XGBClassifier(learning_rate =0.07,  max_depth=5,\n",
    "min_child_weight=5, n_estimators=100,gamma=0.0,\n",
    " objective= 'binary:logistic', nthread=4,     scale_pos_weight=1, seed=27),\n",
    "                       param_grid = param_test6,     scoring='roc_auc',n_jobs=4,iid=False, cv=5)"
   ]
  },
  {
   "cell_type": "code",
   "execution_count": 59,
   "metadata": {},
   "outputs": [
    {
     "data": {
      "text/plain": [
       "GridSearchCV(cv=5, error_score='raise',\n",
       "       estimator=XGBClassifier(base_score=0.5, booster='gbtree', colsample_bylevel=1,\n",
       "       colsample_bytree=1, gamma=0.0, learning_rate=0.07, max_delta_step=0,\n",
       "       max_depth=5, min_child_weight=5, missing=None, n_estimators=100,\n",
       "       n_jobs=1, nthread=4, objective='binary:logistic', random_state=0,\n",
       "       reg_alpha=0, reg_lambda=1, scale_pos_weight=1, seed=27, silent=True,\n",
       "       subsample=1),\n",
       "       fit_params={}, iid=False, n_jobs=4,\n",
       "       param_grid={'reg_alpha': [0, 0.001, 0.005, 0.01, 0.05]},\n",
       "       pre_dispatch='2*n_jobs', refit=True, scoring='roc_auc', verbose=0)"
      ]
     },
     "execution_count": 59,
     "metadata": {},
     "output_type": "execute_result"
    }
   ],
   "source": [
    "gsearch6.fit(X_train,y_train)"
   ]
  },
  {
   "cell_type": "code",
   "execution_count": 60,
   "metadata": {},
   "outputs": [
    {
     "data": {
      "text/plain": [
       "([mean: 0.85620, std: 0.00596, params: {'reg_alpha': 0},\n",
       "  mean: 0.85613, std: 0.00615, params: {'reg_alpha': 0.001},\n",
       "  mean: 0.85607, std: 0.00625, params: {'reg_alpha': 0.005},\n",
       "  mean: 0.85597, std: 0.00600, params: {'reg_alpha': 0.01},\n",
       "  mean: 0.85614, std: 0.00600, params: {'reg_alpha': 0.05}],\n",
       " {'reg_alpha': 0},\n",
       " 0.8562046501125616)"
      ]
     },
     "execution_count": 60,
     "metadata": {},
     "output_type": "execute_result"
    }
   ],
   "source": [
    "gsearch6.grid_scores_,gsearch6.best_params_,gsearch6.best_score_"
   ]
  },
  {
   "cell_type": "markdown",
   "metadata": {},
   "source": [
    "##### 6.在最优参数的基础上，降低学习速率，增加决策树的数量"
   ]
  },
  {
   "cell_type": "code",
   "execution_count": 61,
   "metadata": {},
   "outputs": [
    {
     "data": {
      "text/plain": [
       "XGBClassifier(base_score=0.5, booster='gbtree', colsample_bylevel=1,\n",
       "       colsample_bytree=1, gamma=0, learning_rate=0.02, max_delta_step=0,\n",
       "       max_depth=5, min_child_weight=5, missing=None, n_estimators=1000,\n",
       "       n_jobs=1, nthread=None, objective='binary:logistic', random_state=0,\n",
       "       reg_alpha=0, reg_lambda=1, scale_pos_weight=1, seed=None,\n",
       "       silent=True, subsample=0.8)"
      ]
     },
     "execution_count": 61,
     "metadata": {},
     "output_type": "execute_result"
    }
   ],
   "source": [
    "xgbc1 = XGBClassifier(learning_rate=0.02,max_depth=5,subsample=0.8,\n",
    "                   n_estimators=1000, min_child_weight=5)\n",
    "xgbc1.fit(X_train,y_train,eval_metric='auc')"
   ]
  },
  {
   "cell_type": "code",
   "execution_count": 62,
   "metadata": {},
   "outputs": [
    {
     "name": "stdout",
     "output_type": "stream",
     "text": [
      "训练集准确度：0.942543\n"
     ]
    }
   ],
   "source": [
    "print('训练集准确度：%f'%xgbc1.score(X_train,y_train))"
   ]
  },
  {
   "cell_type": "code",
   "execution_count": 63,
   "metadata": {},
   "outputs": [
    {
     "data": {
      "text/plain": [
       "0.9371589753075003"
      ]
     },
     "execution_count": 63,
     "metadata": {},
     "output_type": "execute_result"
    }
   ],
   "source": [
    "y_predict = xgbc1.predict(X_test)\n",
    "error_num = (y_predict != y_test).sum()\n",
    "probability = 1-float(error_num) / len(y_test)\n",
    "probability"
   ]
  },
  {
   "cell_type": "code",
   "execution_count": 64,
   "metadata": {},
   "outputs": [
    {
     "name": "stdout",
     "output_type": "stream",
     "text": [
      "             precision    recall  f1-score   support\n",
      "\n",
      "          0       0.94      0.99      0.97     20189\n",
      "          1       0.59      0.17      0.27      1437\n",
      "\n",
      "avg / total       0.92      0.94      0.92     21626\n",
      "\n"
     ]
    }
   ],
   "source": [
    "print(classification_report(y_test,y_predict,target_names=None, digits=2))"
   ]
  },
  {
   "cell_type": "markdown",
   "metadata": {},
   "source": [
    "##### 7.结果分析"
   ]
  },
  {
   "cell_type": "markdown",
   "metadata": {},
   "source": [
    "与第四节中，采用默认参数的xgboost计算结果相比：   \n",
    "\n",
    "Name | 训练集准确度 | 测试集准确度\n",
    "- | :-: | -:\n",
    "默认参数 | 0.95756 | 0.93549\n",
    "调优参数 | 0.94254 | 0.93715 \n",
    "\n",
    "从上表中可以看出，参数调优后，训练集准确度下降，测试集准确度上升了近2个百分点，可见模型泛化能力得到了一定提升。  "
   ]
  },
  {
   "cell_type": "markdown",
   "metadata": {},
   "source": [
    " 采用默认参数的模型评估结果：\n",
    " \n",
    "name|precision |   recall | f1-score |  support\n",
    "- | :-: | -:\n",
    "0    |   0.94  |    0.99  |    0.97  |   20189\n",
    "1    |   0.54   |   0.18    |  0.27     | 1437\n",
    "avg / total    |   0.92   |   0.94    |  0.92   |  21626\n",
    " \n",
    " 参数调优后的模型评估结果：\n",
    " \n",
    " name|precision |   recall | f1-score |  support\n",
    "- | :-: | -:\n",
    "0    |   0.94  |    0.99  |    0.97  |   20189\n",
    "1    |   0.59   |   0.17    |  0.27     | 1437\n",
    "avg / total    |   0.92   |   0.94    |  0.92   |  21626"
   ]
  },
  {
   "cell_type": "markdown",
   "metadata": {},
   "source": [
    "从模型评估结果来看，参数调优后对类别“1”，预测的准确度提升了，但召回率有所下降，其他评估结果没有显著变化。  \n",
    "尝试了采用网格搜索方法，分批次的寻求最优参数，从网格搜索结果来看，大部分参数的最优解都是默认参数，  \n",
    "可以认为收效并不显著。  \n",
    "后续是不是可以通过特征工程、模型融合等其他方式提升模型性能？  "
   ]
  },
  {
   "cell_type": "markdown",
   "metadata": {},
   "source": []
  },
  {
   "cell_type": "markdown",
   "metadata": {},
   "source": [
    "***\n",
    "<center><h1>####答卷结束####</h1></center>"
   ]
  }
 ],
 "metadata": {
  "kernelspec": {
   "display_name": "Python 3",
   "language": "python",
   "name": "python3"
  },
  "language_info": {
   "codemirror_mode": {
    "name": "ipython",
    "version": 3
   },
   "file_extension": ".py",
   "mimetype": "text/x-python",
   "name": "python",
   "nbconvert_exporter": "python",
   "pygments_lexer": "ipython3",
   "version": "3.5.2"
  }
 },
 "nbformat": 4,
 "nbformat_minor": 2
}
