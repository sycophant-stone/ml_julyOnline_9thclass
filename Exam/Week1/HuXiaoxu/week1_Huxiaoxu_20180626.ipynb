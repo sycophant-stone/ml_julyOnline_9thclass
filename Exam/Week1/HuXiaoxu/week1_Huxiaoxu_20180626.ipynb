{
 "cells": [
  {
   "cell_type": "code",
   "execution_count": null,
   "metadata": {},
   "outputs": [],
   "source": [
    "import pandas as pd\n",
    "pd.set_option('display.max_columns', 500)\n",
    "import zipfile\n",
    "with zipfile.ZipFile('KaggleCredit2.csv.zip', 'r') as z:\n",
    "    f = z.open('KaggleCredit2.csv')\n",
    "    data = pd.read_csv(f, index_col=0)\n",
    "data.head()"
   ]
  },
  {
   "cell_type": "code",
   "execution_count": null,
   "metadata": {
    "collapsed": true
   },
   "outputs": [],
   "source": [
    "data.shape"
   ]
  },
  {
   "cell_type": "code",
   "execution_count": null,
   "metadata": {
    "collapsed": true
   },
   "outputs": [],
   "source": [
    "data.isnull().sum(axis=0)"
   ]
  },
  {
   "cell_type": "code",
   "execution_count": null,
   "metadata": {
    "collapsed": true
   },
   "outputs": [],
   "source": [
    "data.dropna(inplace=True)\n",
    "data.shape"
   ]
  },
  {
   "cell_type": "code",
   "execution_count": null,
   "metadata": {
    "collapsed": true
   },
   "outputs": [],
   "source": [
    "y = data['SeriousDlqin2yrs']\n",
    "X = data.drop('SeriousDlqin2yrs', axis=1)\n",
    "y.mean()"
   ]
  },
  {
   "cell_type": "markdown",
   "metadata": {},
   "source": [
    "# 练习1\n",
    "\n",
    "把数据切分成训练集和测试集"
   ]
  },
  {
   "cell_type": "code",
   "execution_count": null,
   "metadata": {
    "collapsed": true
   },
   "outputs": [],
   "source": [
    "from sklearn.model_selection import train_test_split\n",
    "X_train, X_test, y_train, y_test=train_test_split(X, y, random_state=30)\n",
    "#print (X_train)"
   ]
  },
  {
   "cell_type": "code",
   "execution_count": null,
   "metadata": {
    "collapsed": true
   },
   "outputs": [],
   "source": [
    "#练习2\n",
    "# logistic regression\n",
    "from sklearn.linear_model import LogisticRegression\n",
    "lr = LogisticRegression(random_state=0)\n",
    "lr.fit(X_train, y_train)\n",
    "y_pred_lr = lr.predict(X_test)\n",
    "\n",
    "#DecisionTreeClassifier\n",
    "from sklearn.tree import DecisionTreeClassifier\n",
    "tre = DecisionTreeClassifier(random_state=0)\n",
    "tre.fit(X_train, y_train)\n",
    "y_pred_tre = tre.predict(X_test)\n",
    "\n",
    "#SVM\n",
    "from sklearn.svm import LinearSVC\n",
    "sv_svc = LinearSVC(random_state=0)\n",
    "sv_svc.fit(X_train, y_train)\n",
    "y_pred_svsvc = sv_svc.predict(X_test)\n",
    "\n",
    "#KNN\n",
    "from sklearn.neighbors import KNeighborsClassifier\n",
    "knn = KNeighborsClassifier(n_neighbors = 8)\n",
    "knn.fit(X_train, y_train)\n",
    "y_pred_knn = knn.predict(X_test)\n",
    "\n",
    "#kmeans\n",
    "from sklearn.cluster import KMeans\n",
    "kme = KMeans(n_clusters=2, init='k-means++', random_state=0)\n",
    "kme.fit(X_train, y_train)\n",
    "y_pred_kme = kme.predict(X_test)"
   ]
  },
  {
   "cell_type": "code",
   "execution_count": null,
   "metadata": {
    "collapsed": true
   },
   "outputs": [],
   "source": [
    "#练习3 && 练习4\n",
    "#Accuracy Score\n",
    "from sklearn.metrics import accuracy_score\n",
    "print (\"accuracy_score\")\n",
    "y_pred_lr_metrics = accuracy_score(y_test, y_pred_lr)\n",
    "print (\"lr :\", y_pred_lr_metrics)\n",
    "\n",
    "y_pred_tre_metrics = accuracy_score(y_test, y_pred_tre)\n",
    "print (\"tre:\", y_pred_tre_metrics)\n",
    "\n",
    "y_pred_svsvc_metrics = accuracy_score(y_test, y_pred_svsvc)\n",
    "print (\"svc:\", y_pred_svsvc_metrics)\n",
    "\n",
    "y_pred_knn_metrics = accuracy_score(y_test, y_pred_knn)\n",
    "print (\"knn:\", y_pred_knn_metrics)\n",
    "\n",
    "y_pred_kme_metrics = accuracy_score(y_test, y_pred_kme)\n",
    "print (\"kme:\", y_pred_kme_metrics)\n",
    "\n",
    "#Classification Report\n",
    "from sklearn.metrics import classification_report\n",
    "print (\"classification_report\")\n",
    "y_pred_lr_metrics = classification_report(y_test, y_pred_lr)\n",
    "print (\"lr :\", y_pred_lr_metrics)\n",
    "\n",
    "y_pred_tre_metrics = classification_report(y_test, y_pred_tre)\n",
    "print (\"tre:\", y_pred_tre_metrics)\n",
    "\n",
    "y_pred_svsvc_metrics = classification_report(y_test, y_pred_svsvc)\n",
    "print (\"svc:\", y_pred_svsvc_metrics)\n",
    "\n",
    "y_pred_knn_metrics = classification_report(y_test, y_pred_knn)\n",
    "print (\"knn:\", y_pred_knn_metrics)\n",
    "\n",
    "y_pred_kme_metrics = classification_report(y_test, y_pred_kme)\n",
    "print (\"kme:\", y_pred_kme_metrics)\n",
    "\n",
    "#Confusion Matrix\n",
    "from sklearn.metrics import confusion_matrix\n",
    "print (\"confusion_matrix\")\n",
    "y_pred_lr_metrics = confusion_matrix(y_test, y_pred_lr)\n",
    "print (\"lr :\", y_pred_lr_metrics)\n",
    "\n",
    "y_pred_tre_metrics = confusion_matrix(y_test, y_pred_tre)\n",
    "print (\"tre:\", y_pred_tre_metrics)\n",
    "\n",
    "y_pred_svsvc_metrics = confusion_matrix(y_test, y_pred_svsvc)\n",
    "print (\"svc:\", y_pred_svsvc_metrics)\n",
    "\n",
    "y_pred_knn_metrics = confusion_matrix(y_test, y_pred_knn)\n",
    "print (\"knn:\", y_pred_knn_metrics)\n",
    "\n",
    "y_pred_kme_metrics = confusion_matrix(y_test, y_pred_kme)\n",
    "print (\"kme:\", y_pred_kme_metrics)"
   ]
  },
  {
   "cell_type": "code",
   "execution_count": null,
   "metadata": {
    "collapsed": true
   },
   "outputs": [],
   "source": [
    "# 练习5\n",
    "'''练习5 没明白题目的意思，在logistic regression当中，概率判定边界怎么设定？还没找到方法\n",
    "'''\n",
    "\n",
    "\n",
    "lr = LogisticRegression(random_state=0)\n",
    "lr.fit(X_train, y_train)\n",
    "y_pred_lr = lr.predict_proba(X_test)\n",
    "print (y_pred_lr)"
   ]
  }
 ],
 "metadata": {
  "kernelspec": {
   "display_name": "Python 3",
   "language": "python",
   "name": "python3"
  },
  "language_info": {
   "codemirror_mode": {
    "name": "ipython",
    "version": 3
   },
   "file_extension": ".py",
   "mimetype": "text/x-python",
   "name": "python",
   "nbconvert_exporter": "python",
   "pygments_lexer": "ipython3",
   "version": "3.5.2"
  }
 },
 "nbformat": 4,
 "nbformat_minor": 2
}
