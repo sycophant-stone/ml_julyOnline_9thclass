{
 "cells": [
  {
   "cell_type": "markdown",
   "metadata": {},
   "source": [
    "## 七月在线机器学习第九期第二阶段考试\n",
    "#### 考试说明:\n",
    "- 起止时间：请同学在2018年7月11日至7月18日期间完成，最晚提交时间（7月18日24时之前）结束，<b>逾期不接受补考,该考试分数计入平时成绩</b>\n",
    "- 考试方式：请同学将该试卷进行复制后，改名为自己姓名后，如State2Exam-WangWei.ipynb，<b>移动</b>至/0.Teacher/Exam/Stage2/目录下后，进行答题。\n",
    "- 注意事项：为确保同学们真正了解自身对本周课程的掌握程度，<font color=red><b>请勿翻阅，移动，更改</b></font>其它同学试卷。如发现按0分处理\n",
    "- 请同学在下方同学姓名处填写自己的姓名，批改人和最终得分不用填写"
   ]
  },
  {
   "cell_type": "markdown",
   "metadata": {},
   "source": [
    "- 同学姓名:wangye\n",
    "- 批改人：   \n",
    "- 最终得分:"
   ]
  },
  {
   "cell_type": "markdown",
   "metadata": {},
   "source": [
    "<center><h1>####答卷开始####</h1></center>\n",
    "<hr>"
   ]
  },
  {
   "cell_type": "markdown",
   "metadata": {},
   "source": [
    "## 问答题(共5题，每题10分，共计50分)"
   ]
  },
  {
   "cell_type": "markdown",
   "metadata": {},
   "source": [
    "#### 1. 请写出你了解的机器学习特征工程操作都有哪些，及它们的具体实现？"
   ]
  },
  {
   "cell_type": "code",
   "execution_count": null,
   "metadata": {
    "collapsed": true
   },
   "outputs": [],
   "source": [
    "1）数据处理，从业务数据中选择对结果有意义的信息\n",
    "A.数据采集（加工）：尽可能多的收集业务数据\n",
    "B.数据清洗：从业务角度考虑去掉无对分析领域无意义的数据等\n",
    "C.数据采样：从正负样本均衡采样出发：分层采样、随机采样\n",
    "\n",
    "2）特征处理，将特征加工为计算机可识别、可表达业务意义的信息\n",
    "A.数值型:幅度调整（对列：标准化、对行：归一化）、各种基础统计指标、离散化（等距、等频）、\n",
    "B.类别型：StringIndexer、OneHotEncoder、Hash统计、不同类别下的比例分布\n",
    "C.时间型：业务指标（时长、间隔）、小时、天、星期几、工作日、节日、假日、星期、季度、年\n",
    "D.文本型：词袋、n-gram、TF-IDF\n",
    "F.统计特征：针对业务中各类统计指标按平均值、分位数、次序、统计值比例\n",
    "G.组合特征：多特征组合\n",
    "\n",
    "3）特征选择，去掉噪声特征、相关度高的特征\n",
    "A.过滤型：评估单个特征与结果的相关性，排序留下topN。如pearsonr、selectBest\n",
    "B.包裹型：将特征选择看成一个特征子集搜索问题，用模型评估效果。如RFE\n",
    "C.嵌入型：根据模型分析特征重要性。如正则化"
   ]
  },
  {
   "cell_type": "markdown",
   "metadata": {},
   "source": [
    "#### 2.模型评估中的留一法，留出法，交叉验证分别是什么操作？"
   ]
  },
  {
   "cell_type": "code",
   "execution_count": null,
   "metadata": {
    "collapsed": true
   },
   "outputs": [],
   "source": [
    "留出法：将数据集划分为两个互斥的集合，TrainingSet、TestingSet\n",
    "交叉验证：将数据集划分成k个大小相同的互斥子集，每次用k-1个子集的并集作为TrainingSet、另外一份作为TestingSet；进行k次训练和测试，最终计算k次测试结果的均值。\n",
    "留一法：是交叉验证法的特例，即N个样本划分为N个子集"
   ]
  },
  {
   "cell_type": "markdown",
   "metadata": {},
   "source": [
    "#### 3.网格搜索交叉验证的作用是什么，并简述网格搜索交叉验证是如何运行的？"
   ]
  },
  {
   "cell_type": "code",
   "execution_count": null,
   "metadata": {
    "collapsed": true
   },
   "outputs": [],
   "source": [
    "作用：超参数的选择\n",
    "运行机制：各输入参数的组合分别进行模型训练，得到所选最优的模型"
   ]
  },
  {
   "cell_type": "markdown",
   "metadata": {},
   "source": [
    "#### 4.工业界上模型融合有三大类方式？试简述每类方式其思想？"
   ]
  },
  {
   "cell_type": "code",
   "execution_count": null,
   "metadata": {
    "collapsed": true
   },
   "outputs": [],
   "source": [
    "1)Boosting：串行训练基学习器、每次调整权重再训练，最后对基学习器进行加权\n",
    "2)Bagging与randomForest：并行训练，Bagging自助采样；RF在决策树的训练中增加速记属性选择\n",
    "3)学习法，如stacking"
   ]
  },
  {
   "cell_type": "markdown",
   "metadata": {},
   "source": [
    "#### 5.Early Stopping指的是什么？与它相关的概念有哪些？它们在实际项目中如何被运用？"
   ]
  },
  {
   "cell_type": "code",
   "execution_count": null,
   "metadata": {
    "collapsed": true
   },
   "outputs": [],
   "source": []
  },
  {
   "cell_type": "markdown",
   "metadata": {},
   "source": [
    "## 代码题(共1题，共计50分)"
   ]
  },
  {
   "cell_type": "markdown",
   "metadata": {
    "collapsed": true
   },
   "source": [
    "#### 1.使用XGBoost的sklearn接口，对KaggleCredit2数据完成信用卡欺诈项目的建模及分析\n",
    "- 要求以不同参数设置xgboost运行并进行效果比对,记录，最后给出实验报告\n",
    "\n",
    "- KaggleCredit2数据文件 位于/home/ml9/0.Teacher/Data，请勿复制或移动"
   ]
  },
  {
   "cell_type": "markdown",
   "metadata": {},
   "source": []
  },
  {
   "cell_type": "markdown",
   "metadata": {},
   "source": [
    "***\n",
    "<center><h1>####答卷结束####</h1></center>"
   ]
  }
 ],
 "metadata": {
  "kernelspec": {
   "display_name": "Python 3",
   "language": "python",
   "name": "python3"
  },
  "language_info": {
   "codemirror_mode": {
    "name": "ipython",
    "version": 3
   },
   "file_extension": ".py",
   "mimetype": "text/x-python",
   "name": "python",
   "nbconvert_exporter": "python",
   "pygments_lexer": "ipython3",
   "version": "3.5.2"
  }
 },
 "nbformat": 4,
 "nbformat_minor": 2
}
