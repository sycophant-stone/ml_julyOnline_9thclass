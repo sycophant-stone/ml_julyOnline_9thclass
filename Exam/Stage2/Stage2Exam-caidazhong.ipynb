{
 "cells": [
  {
   "cell_type": "markdown",
   "metadata": {},
   "source": [
    "## 七月在线机器学习第九期第二阶段考试\n",
    "#### 考试说明:\n",
    "- 起止时间：请同学在2018年7月11日至7月18日期间完成，最晚提交时间（7月18日24时之前）结束，<b>逾期不接受补考,该考试分数计入平时成绩</b>\n",
    "- 考试方式：请同学将该试卷进行复制后，改名为自己姓名后，如State2Exam-WangWei.ipynb，<b>移动</b>至/0.Teacher/Exam/Stage2/目录下后，进行答题。\n",
    "- 注意事项：为确保同学们真正了解自身对本周课程的掌握程度，<font color=red><b>请勿翻阅，移动，更改</b></font>其它同学试卷。如发现按0分处理\n",
    "- 请同学在下方同学姓名处填写自己的姓名，批改人和最终得分不用填写"
   ]
  },
  {
   "cell_type": "markdown",
   "metadata": {},
   "source": [
    "- 同学姓名:蔡大忠\n",
    "- 批改人：   \n",
    "- 最终得分:"
   ]
  },
  {
   "cell_type": "markdown",
   "metadata": {},
   "source": [
    "<center><h1>####答卷开始####</h1></center>\n",
    "<hr>"
   ]
  },
  {
   "cell_type": "markdown",
   "metadata": {},
   "source": [
    "## 问答题(共5题，每题10分，共计50分)"
   ]
  },
  {
   "cell_type": "markdown",
   "metadata": {},
   "source": [
    "#### 1. 请写出你了解的机器学习特征工程操作都有哪些，及它们的具体实现？"
   ]
  },
  {
   "cell_type": "markdown",
   "metadata": {
    "collapsed": true
   },
   "source": [
    "1,数据采集和处理\n",
    "  \n",
    "  数据采集:选择和目标有关的数据，并埋点采集数据\n",
    "  \n",
    "  数据格式化：确定保存格式\n",
    "  \n",
    "  数据清洗:去除脏数据，去除单维度不可信的数据，缺失值多的数据，组合统计属性判断，基于箱线图判断\n",
    " \n",
    " 数据采样：\n",
    "  \n",
    "  正样本〉负样本，且量大，用下采样\n",
    "            \n",
    "  正样本〉负样本，且量不大，采集更多数据，过采样，或修改损失函数\n",
    "  \n",
    "  数据处理：数值型：幅度缩放，log等值域变化，统计量max,min,mean,std,离散化，hash分桶  和histogram，数值型变类别性\n",
    "            \n",
    "            类别性：独热向量编码，哑变量，hash和聚类\n",
    "           \n",
    "           时间性：可做成离散性和连续型\n",
    "            \n",
    "            文本型：tf-idf,词袋\n",
    "            \n",
    "            组合特征，模型组合特征\n",
    "  \n",
    "  特征选择：过滤型，包裹型，嵌入型"
   ]
  },
  {
   "cell_type": "markdown",
   "metadata": {},
   "source": [
    "#### 2.模型评估中的留一法，留出法，交叉验证分别是什么操作？"
   ]
  },
  {
   "cell_type": "code",
   "execution_count": null,
   "metadata": {
    "collapsed": true
   },
   "outputs": [],
   "source": [
    "留一法：就是每次只留下一个样本做测试集，其它样本做训练集，如果有k个样本，则需要训练k次，测试k次。\n",
    "\n",
    "留出法:把D划分为两部分：训练集S和测试集T，在S上训练，在T上做测试。\n",
    "\n",
    "交叉验证：将训练集划分为K折，取一部分作为测试集，其他K-1部分作为训练集，对训练集训练后，然后切换训练集-测试集，从K-1的部分中选取一个测试机，剩下的作为训练集，然后在训练模型，这样循环完毕K折，得到的结果求平均。\n"
   ]
  },
  {
   "cell_type": "markdown",
   "metadata": {},
   "source": [
    "#### 3.网格搜索交叉验证的作用是什么，并简述网格搜索交叉验证是如何运行的？"
   ]
  },
  {
   "cell_type": "markdown",
   "metadata": {
    "collapsed": true
   },
   "source": [
    "网格搜索：\n",
    "\n",
    "作用：是一种通过遍历给定的参数组合来优化模型表现的方法，一般用于对模型的超参数进行遍历以确定最佳的超参数\n",
    "\n",
    "如何运行：网格搜索通过将估计函数的参数的可能取值进行排列组合，列出所有可能的组合结果生成“网格”，然后遍历所有“网格”，并使用交叉验证对结果进行评估，找到最优组合,从而找到最优参数\n",
    "\n",
    "交叉验证:\n",
    "\n",
    "    作用：假设现在已经给定了一组固定的参数，如何评价这个组超参数的好坏呢？我们应该倾向于选择某一组超参数使得模型的泛化能力最好，而评价模型的泛化能力最常见的做法就是交叉验证。\n",
    "\n",
    "    如何运行：以K折交叉验证为例，首先将训练集平均切分成K个数据子集，以第1折数据子集为验证集，并以余下K-1折作为训练集训练模型(此时模型的超参数已经由上面的网格搜索给定了一组)，得到模型之后再用验证集进行评分，这样重复K次，直到每一折数据都被当作验证集进行了一次评分。最终模型的评分就是这K次评分的平均值，这个平均值就是模型在该组超参数下的表现\n",
    "\n",
    "对网格搜索中的每一组超参数组合进行交叉验证，最后评分最好的那一个模型的超参数组合就是我们要找的最佳超参数组合"
   ]
  },
  {
   "cell_type": "markdown",
   "metadata": {},
   "source": [
    "#### 4.工业界上模型融合有三大类方式？试简述每类方式其思想？"
   ]
  },
  {
   "cell_type": "markdown",
   "metadata": {
    "collapsed": true
   },
   "source": [
    "bagging:\n",
    "    1给定一个大小为d的训练集D\n",
    "    2bagging通过从D中进行可重复得均匀采样，得到m个新的训练集Di，每个Di的大小为n\n",
    "    3将得到的m个训练集，分别进行模型拟合，得到m个结果\n",
    "    4由这m个结果得到最终结果，对于回归：将M个结果平均，对于分类，将m个结果投票，票数多为最终分类值\n",
    "stacking：\n",
    "    1将训练集分成两个不相交的部分\n",
    "    2在第一部分的训练集上训练若干个基本学习器\n",
    "    3在第二部分的训练集上测试得到的基本学习器\n",
    "    4使用3步的预测结果作为输入，将正确的结果作为输出，训练更高级别的学习器\n",
    "boost：\n",
    "在训练集上，训练一个弱分类器\n",
    "添加一个弱分类器进行分类学习\n",
    "a. 在这个过程中,由上次的结果进行权值调整, 训练集中数据被重新加权：对错分的样本数据增加权重，对正确分类的样本数据进行降低权重（有些boosting算法会对反复被错分的样本进行降权处理，如BrownBoost和boost by majority）；\n",
    "b. 在权值调整后的训练集上，进行弱分类器的学习训练\n",
    "迭代步骤2"
   ]
  },
  {
   "cell_type": "markdown",
   "metadata": {},
   "source": [
    "#### 5.Early Stopping指的是什么？与它相关的概念有哪些？它们在实际项目中如何被运用？"
   ]
  },
  {
   "cell_type": "markdown",
   "metadata": {
    "collapsed": true
   },
   "source": [
    "用来避免训练模型时候的过拟合，即在训练模型时使用一种迭代方法，比如梯度下降。随着epoch增加，如果在测试集上发现测试误差上升，则停止训练，为了防止过拟合。\n",
    "\n",
    "其通过学习曲线验证模型状态，如果发现模型过拟合通过增加数据集、加大正则化系数、对特征进行选择、模型同和等方式进行处理\n",
    "\n",
    "这些方法可以用来更新（训练）模型，使得它可以在每次迭代中更好的拟合训练数据。训练模型直到到达一个点，这会改善（模型）在训练集之外的表现。过了这个点（最优点），在改善模型（表现的）过程中，会带来更多的错误。\n",
    "\n",
    "基于验证集的过拟合 这种过拟合规则主要用于将原始训练数据集切分成新的训练集和验证集时。当过拟合的时候，验证集上的错误率 被用来代替错误（作为评判标准）。"
   ]
  },
  {
   "cell_type": "markdown",
   "metadata": {},
   "source": [
    "## 代码题(共1题，共计50分)"
   ]
  },
  {
   "cell_type": "markdown",
   "metadata": {
    "collapsed": true
   },
   "source": [
    "#### 1.使用XGBoost的sklearn接口，对KaggleCredit2数据完成信用卡欺诈项目的建模及分析\n",
    "- 要求以不同参数设置xgboost运行并进行效果比对,记录，最后给出实验报告\n",
    "\n",
    "- KaggleCredit2数据文件 位于/home/ml9/0.Teacher/Data，请勿复制或移动"
   ]
  },
  {
   "cell_type": "markdown",
   "metadata": {},
   "source": []
  },
  {
   "cell_type": "code",
   "execution_count": 5,
   "metadata": {
    "collapsed": true
   },
   "outputs": [],
   "source": [
    "from numpy import loadtxt\n",
    "import pandas as pd\n",
    "from xgboost import XGBClassifier\n",
    "from sklearn.model_selection import train_test_split\n",
    "from sklearn.metrics import accuracy_score"
   ]
  },
  {
   "cell_type": "code",
   "execution_count": 7,
   "metadata": {},
   "outputs": [
    {
     "data": {
      "text/html": [
       "<div>\n",
       "<style scoped>\n",
       "    .dataframe tbody tr th:only-of-type {\n",
       "        vertical-align: middle;\n",
       "    }\n",
       "\n",
       "    .dataframe tbody tr th {\n",
       "        vertical-align: top;\n",
       "    }\n",
       "\n",
       "    .dataframe thead th {\n",
       "        text-align: right;\n",
       "    }\n",
       "</style>\n",
       "<table border=\"1\" class=\"dataframe\">\n",
       "  <thead>\n",
       "    <tr style=\"text-align: right;\">\n",
       "      <th></th>\n",
       "      <th>SeriousDlqin2yrs</th>\n",
       "      <th>RevolvingUtilizationOfUnsecuredLines</th>\n",
       "      <th>age</th>\n",
       "      <th>NumberOfTime30-59DaysPastDueNotWorse</th>\n",
       "      <th>DebtRatio</th>\n",
       "      <th>MonthlyIncome</th>\n",
       "      <th>NumberOfOpenCreditLinesAndLoans</th>\n",
       "      <th>NumberOfTimes90DaysLate</th>\n",
       "      <th>NumberRealEstateLoansOrLines</th>\n",
       "      <th>NumberOfTime60-89DaysPastDueNotWorse</th>\n",
       "      <th>NumberOfDependents</th>\n",
       "    </tr>\n",
       "  </thead>\n",
       "  <tbody>\n",
       "    <tr>\n",
       "      <th>0</th>\n",
       "      <td>1</td>\n",
       "      <td>0.766127</td>\n",
       "      <td>45.0</td>\n",
       "      <td>2.0</td>\n",
       "      <td>0.802982</td>\n",
       "      <td>9120.0</td>\n",
       "      <td>13.0</td>\n",
       "      <td>0.0</td>\n",
       "      <td>6.0</td>\n",
       "      <td>0.0</td>\n",
       "      <td>2.0</td>\n",
       "    </tr>\n",
       "    <tr>\n",
       "      <th>1</th>\n",
       "      <td>0</td>\n",
       "      <td>0.957151</td>\n",
       "      <td>40.0</td>\n",
       "      <td>0.0</td>\n",
       "      <td>0.121876</td>\n",
       "      <td>2600.0</td>\n",
       "      <td>4.0</td>\n",
       "      <td>0.0</td>\n",
       "      <td>0.0</td>\n",
       "      <td>0.0</td>\n",
       "      <td>1.0</td>\n",
       "    </tr>\n",
       "    <tr>\n",
       "      <th>2</th>\n",
       "      <td>0</td>\n",
       "      <td>0.658180</td>\n",
       "      <td>38.0</td>\n",
       "      <td>1.0</td>\n",
       "      <td>0.085113</td>\n",
       "      <td>3042.0</td>\n",
       "      <td>2.0</td>\n",
       "      <td>1.0</td>\n",
       "      <td>0.0</td>\n",
       "      <td>0.0</td>\n",
       "      <td>0.0</td>\n",
       "    </tr>\n",
       "    <tr>\n",
       "      <th>3</th>\n",
       "      <td>0</td>\n",
       "      <td>0.233810</td>\n",
       "      <td>30.0</td>\n",
       "      <td>0.0</td>\n",
       "      <td>0.036050</td>\n",
       "      <td>3300.0</td>\n",
       "      <td>5.0</td>\n",
       "      <td>0.0</td>\n",
       "      <td>0.0</td>\n",
       "      <td>0.0</td>\n",
       "      <td>0.0</td>\n",
       "    </tr>\n",
       "    <tr>\n",
       "      <th>4</th>\n",
       "      <td>0</td>\n",
       "      <td>0.907239</td>\n",
       "      <td>49.0</td>\n",
       "      <td>1.0</td>\n",
       "      <td>0.024926</td>\n",
       "      <td>63588.0</td>\n",
       "      <td>7.0</td>\n",
       "      <td>0.0</td>\n",
       "      <td>1.0</td>\n",
       "      <td>0.0</td>\n",
       "      <td>0.0</td>\n",
       "    </tr>\n",
       "  </tbody>\n",
       "</table>\n",
       "</div>"
      ],
      "text/plain": [
       "   SeriousDlqin2yrs  RevolvingUtilizationOfUnsecuredLines   age  \\\n",
       "0                 1                              0.766127  45.0   \n",
       "1                 0                              0.957151  40.0   \n",
       "2                 0                              0.658180  38.0   \n",
       "3                 0                              0.233810  30.0   \n",
       "4                 0                              0.907239  49.0   \n",
       "\n",
       "   NumberOfTime30-59DaysPastDueNotWorse  DebtRatio  MonthlyIncome  \\\n",
       "0                                   2.0   0.802982         9120.0   \n",
       "1                                   0.0   0.121876         2600.0   \n",
       "2                                   1.0   0.085113         3042.0   \n",
       "3                                   0.0   0.036050         3300.0   \n",
       "4                                   1.0   0.024926        63588.0   \n",
       "\n",
       "   NumberOfOpenCreditLinesAndLoans  NumberOfTimes90DaysLate  \\\n",
       "0                             13.0                      0.0   \n",
       "1                              4.0                      0.0   \n",
       "2                              2.0                      1.0   \n",
       "3                              5.0                      0.0   \n",
       "4                              7.0                      0.0   \n",
       "\n",
       "   NumberRealEstateLoansOrLines  NumberOfTime60-89DaysPastDueNotWorse  \\\n",
       "0                           6.0                                   0.0   \n",
       "1                           0.0                                   0.0   \n",
       "2                           0.0                                   0.0   \n",
       "3                           0.0                                   0.0   \n",
       "4                           1.0                                   0.0   \n",
       "\n",
       "   NumberOfDependents  \n",
       "0                 2.0  \n",
       "1                 1.0  \n",
       "2                 0.0  \n",
       "3                 0.0  \n",
       "4                 0.0  "
      ]
     },
     "execution_count": 7,
     "metadata": {},
     "output_type": "execute_result"
    }
   ],
   "source": [
    "import pandas as pd\n",
    "pd.set_option('display.max_columns', 500)\n",
    "import zipfile\n",
    "with zipfile.ZipFile('../../Data/KaggleCredit2.csv.zip', 'r') as z:\n",
    "    f = z.open('KaggleCredit2.csv')\n",
    "    data = pd.read_csv(f, index_col=0)\n",
    "data.head()"
   ]
  },
  {
   "cell_type": "code",
   "execution_count": 11,
   "metadata": {},
   "outputs": [
    {
     "name": "stdout",
     "output_type": "stream",
     "text": [
      "<class 'pandas.core.frame.DataFrame'>\n",
      "Int64Index: 112915 entries, 0 to 112914\n",
      "Data columns (total 11 columns):\n",
      "SeriousDlqin2yrs                        112915 non-null int64\n",
      "RevolvingUtilizationOfUnsecuredLines    112915 non-null float64\n",
      "age                                     108648 non-null float64\n",
      "NumberOfTime30-59DaysPastDueNotWorse    112915 non-null float64\n",
      "DebtRatio                               112915 non-null float64\n",
      "MonthlyIncome                           112915 non-null float64\n",
      "NumberOfOpenCreditLinesAndLoans         112915 non-null float64\n",
      "NumberOfTimes90DaysLate                 112915 non-null float64\n",
      "NumberRealEstateLoansOrLines            112915 non-null float64\n",
      "NumberOfTime60-89DaysPastDueNotWorse    112915 non-null float64\n",
      "NumberOfDependents                      108648 non-null float64\n",
      "dtypes: float64(10), int64(1)\n",
      "memory usage: 10.3 MB\n"
     ]
    }
   ],
   "source": [
    "data.info()"
   ]
  },
  {
   "cell_type": "code",
   "execution_count": 12,
   "metadata": {},
   "outputs": [
    {
     "data": {
      "text/html": [
       "<div>\n",
       "<style scoped>\n",
       "    .dataframe tbody tr th:only-of-type {\n",
       "        vertical-align: middle;\n",
       "    }\n",
       "\n",
       "    .dataframe tbody tr th {\n",
       "        vertical-align: top;\n",
       "    }\n",
       "\n",
       "    .dataframe thead th {\n",
       "        text-align: right;\n",
       "    }\n",
       "</style>\n",
       "<table border=\"1\" class=\"dataframe\">\n",
       "  <thead>\n",
       "    <tr style=\"text-align: right;\">\n",
       "      <th></th>\n",
       "      <th>SeriousDlqin2yrs</th>\n",
       "      <th>RevolvingUtilizationOfUnsecuredLines</th>\n",
       "      <th>age</th>\n",
       "      <th>NumberOfTime30-59DaysPastDueNotWorse</th>\n",
       "      <th>DebtRatio</th>\n",
       "      <th>MonthlyIncome</th>\n",
       "      <th>NumberOfOpenCreditLinesAndLoans</th>\n",
       "      <th>NumberOfTimes90DaysLate</th>\n",
       "      <th>NumberRealEstateLoansOrLines</th>\n",
       "      <th>NumberOfTime60-89DaysPastDueNotWorse</th>\n",
       "      <th>NumberOfDependents</th>\n",
       "    </tr>\n",
       "  </thead>\n",
       "  <tbody>\n",
       "    <tr>\n",
       "      <th>count</th>\n",
       "      <td>112915.000000</td>\n",
       "      <td>112915.000000</td>\n",
       "      <td>108648.000000</td>\n",
       "      <td>112915.000000</td>\n",
       "      <td>112915.000000</td>\n",
       "      <td>1.129150e+05</td>\n",
       "      <td>112915.000000</td>\n",
       "      <td>112915.000000</td>\n",
       "      <td>112915.000000</td>\n",
       "      <td>112915.000000</td>\n",
       "      <td>108648.000000</td>\n",
       "    </tr>\n",
       "    <tr>\n",
       "      <th>mean</th>\n",
       "      <td>0.067449</td>\n",
       "      <td>5.825057</td>\n",
       "      <td>51.361304</td>\n",
       "      <td>0.378807</td>\n",
       "      <td>0.306221</td>\n",
       "      <td>6.959809e+03</td>\n",
       "      <td>8.675561</td>\n",
       "      <td>0.213594</td>\n",
       "      <td>1.015587</td>\n",
       "      <td>0.188531</td>\n",
       "      <td>0.856574</td>\n",
       "    </tr>\n",
       "    <tr>\n",
       "      <th>std</th>\n",
       "      <td>0.250799</td>\n",
       "      <td>254.976948</td>\n",
       "      <td>14.453571</td>\n",
       "      <td>3.521621</td>\n",
       "      <td>0.222926</td>\n",
       "      <td>1.478193e+04</td>\n",
       "      <td>5.124575</td>\n",
       "      <td>3.489531</td>\n",
       "      <td>1.080925</td>\n",
       "      <td>3.472207</td>\n",
       "      <td>1.149537</td>\n",
       "    </tr>\n",
       "    <tr>\n",
       "      <th>min</th>\n",
       "      <td>0.000000</td>\n",
       "      <td>0.000000</td>\n",
       "      <td>0.000000</td>\n",
       "      <td>0.000000</td>\n",
       "      <td>0.000000</td>\n",
       "      <td>1.000000e+00</td>\n",
       "      <td>0.000000</td>\n",
       "      <td>0.000000</td>\n",
       "      <td>0.000000</td>\n",
       "      <td>0.000000</td>\n",
       "      <td>0.000000</td>\n",
       "    </tr>\n",
       "    <tr>\n",
       "      <th>25%</th>\n",
       "      <td>0.000000</td>\n",
       "      <td>0.034371</td>\n",
       "      <td>41.000000</td>\n",
       "      <td>0.000000</td>\n",
       "      <td>0.133458</td>\n",
       "      <td>3.637000e+03</td>\n",
       "      <td>5.000000</td>\n",
       "      <td>0.000000</td>\n",
       "      <td>0.000000</td>\n",
       "      <td>0.000000</td>\n",
       "      <td>0.000000</td>\n",
       "    </tr>\n",
       "    <tr>\n",
       "      <th>50%</th>\n",
       "      <td>0.000000</td>\n",
       "      <td>0.173016</td>\n",
       "      <td>51.000000</td>\n",
       "      <td>0.000000</td>\n",
       "      <td>0.278272</td>\n",
       "      <td>5.600000e+03</td>\n",
       "      <td>8.000000</td>\n",
       "      <td>0.000000</td>\n",
       "      <td>1.000000</td>\n",
       "      <td>0.000000</td>\n",
       "      <td>0.000000</td>\n",
       "    </tr>\n",
       "    <tr>\n",
       "      <th>75%</th>\n",
       "      <td>0.000000</td>\n",
       "      <td>0.570906</td>\n",
       "      <td>62.000000</td>\n",
       "      <td>0.000000</td>\n",
       "      <td>0.440113</td>\n",
       "      <td>8.416000e+03</td>\n",
       "      <td>11.000000</td>\n",
       "      <td>0.000000</td>\n",
       "      <td>2.000000</td>\n",
       "      <td>0.000000</td>\n",
       "      <td>2.000000</td>\n",
       "    </tr>\n",
       "    <tr>\n",
       "      <th>max</th>\n",
       "      <td>1.000000</td>\n",
       "      <td>50708.000000</td>\n",
       "      <td>103.000000</td>\n",
       "      <td>98.000000</td>\n",
       "      <td>0.999909</td>\n",
       "      <td>3.008750e+06</td>\n",
       "      <td>57.000000</td>\n",
       "      <td>98.000000</td>\n",
       "      <td>29.000000</td>\n",
       "      <td>98.000000</td>\n",
       "      <td>20.000000</td>\n",
       "    </tr>\n",
       "  </tbody>\n",
       "</table>\n",
       "</div>"
      ],
      "text/plain": [
       "       SeriousDlqin2yrs  RevolvingUtilizationOfUnsecuredLines            age  \\\n",
       "count     112915.000000                         112915.000000  108648.000000   \n",
       "mean           0.067449                              5.825057      51.361304   \n",
       "std            0.250799                            254.976948      14.453571   \n",
       "min            0.000000                              0.000000       0.000000   \n",
       "25%            0.000000                              0.034371      41.000000   \n",
       "50%            0.000000                              0.173016      51.000000   \n",
       "75%            0.000000                              0.570906      62.000000   \n",
       "max            1.000000                          50708.000000     103.000000   \n",
       "\n",
       "       NumberOfTime30-59DaysPastDueNotWorse      DebtRatio  MonthlyIncome  \\\n",
       "count                         112915.000000  112915.000000   1.129150e+05   \n",
       "mean                               0.378807       0.306221   6.959809e+03   \n",
       "std                                3.521621       0.222926   1.478193e+04   \n",
       "min                                0.000000       0.000000   1.000000e+00   \n",
       "25%                                0.000000       0.133458   3.637000e+03   \n",
       "50%                                0.000000       0.278272   5.600000e+03   \n",
       "75%                                0.000000       0.440113   8.416000e+03   \n",
       "max                               98.000000       0.999909   3.008750e+06   \n",
       "\n",
       "       NumberOfOpenCreditLinesAndLoans  NumberOfTimes90DaysLate  \\\n",
       "count                    112915.000000            112915.000000   \n",
       "mean                          8.675561                 0.213594   \n",
       "std                           5.124575                 3.489531   \n",
       "min                           0.000000                 0.000000   \n",
       "25%                           5.000000                 0.000000   \n",
       "50%                           8.000000                 0.000000   \n",
       "75%                          11.000000                 0.000000   \n",
       "max                          57.000000                98.000000   \n",
       "\n",
       "       NumberRealEstateLoansOrLines  NumberOfTime60-89DaysPastDueNotWorse  \\\n",
       "count                 112915.000000                         112915.000000   \n",
       "mean                       1.015587                              0.188531   \n",
       "std                        1.080925                              3.472207   \n",
       "min                        0.000000                              0.000000   \n",
       "25%                        0.000000                              0.000000   \n",
       "50%                        1.000000                              0.000000   \n",
       "75%                        2.000000                              0.000000   \n",
       "max                       29.000000                             98.000000   \n",
       "\n",
       "       NumberOfDependents  \n",
       "count       108648.000000  \n",
       "mean             0.856574  \n",
       "std              1.149537  \n",
       "min              0.000000  \n",
       "25%              0.000000  \n",
       "50%              0.000000  \n",
       "75%              2.000000  \n",
       "max             20.000000  "
      ]
     },
     "execution_count": 12,
     "metadata": {},
     "output_type": "execute_result"
    }
   ],
   "source": [
    "data.describe()"
   ]
  },
  {
   "cell_type": "code",
   "execution_count": 26,
   "metadata": {},
   "outputs": [
    {
     "data": {
      "image/png": "[encoded data removed]",
      "text/plain": [
       "<matplotlib.figure.Figure at 0x7f29df7d8ac8>"
      ]
     },
     "metadata": {},
     "output_type": "display_data"
    }
   ],
   "source": [
    "%matplotlib inline \n",
    "import matplotlib.pyplot as plt\n",
    "data.hist(bins=50, figsize=(20,20))\n",
    "plt.show()"
   ]
  },
  {
   "cell_type": "code",
   "execution_count": 27,
   "metadata": {},
   "outputs": [
    {
     "data": {
      "text/plain": [
       "3008750.0"
      ]
     },
     "execution_count": 27,
     "metadata": {},
     "output_type": "execute_result"
    }
   ],
   "source": [
    "data['MonthlyIncome'].max()"
   ]
  },
  {
   "cell_type": "code",
   "execution_count": null,
   "metadata": {
    "collapsed": true
   },
   "outputs": [],
   "source": [
    "def split_train_test(fraud_indices, normal_indices, test_size = 0.3):\n",
    "    number_records_fraud = len(fraud_indices)\n",
    "    number_records_normal = len(normal_indices)\n",
    "    test_fraud_end = int(number_records_fraud * test_size)\n",
    "    test_normal_end = int(number_records_normal  * test_size)\n",
    "\n",
    "    test_fraud_indices = fraud_indices[0:test_fraud_end]\n",
    "    train_fraud_indices = fraud_indices[test_fraud_end:]\n",
    "\n",
    "    test_normal_indices = normal_indices[0:test_normal_end]\n",
    "    train_normal_indices = normal_indices[test_normal_end:]\n",
    "\n",
    "    return train_normal_indices, train_fraud_indices, test_normal_indices, test_fraud_indices"
   ]
  },
  {
   "cell_type": "code",
   "execution_count": 28,
   "metadata": {
    "collapsed": true
   },
   "outputs": [],
   "source": [
    "def getTrainingSample(train_fraud_indices, train_normal_indices, data, train_normal_pos, ratio):\n",
    "    train_number_records_fraud = int(ratio*len(train_fraud_indices))\n",
    "    train_number_records_normal = len(train_normal_indices)\n",
    "    if train_normal_pos + train_number_records_fraud <= train_number_records_normal:\n",
    "        small_train_normal_indices = train_normal_indices[train_normal_pos: train_normal_pos + train_number_records_fraud]\n",
    "        train_normal_pos = train_normal_pos + train_number_records_fraud\n",
    "    else:\n",
    "        small_train_normal_indices = np.concatenate([train_normal_indices[train_normal_pos: train_number_records_normal],train_normal_indices[0: train_normal_pos + train_number_records_fraud- train_number_records_normal]])\n",
    "        train_normal_pos = train_normal_pos + train_number_records_fraud - train_number_records_normal\n",
    "\n",
    "    under_train_sample_indices = np.concatenate([train_fraud_indices, small_train_normal_indices])\n",
    "    np.random.shuffle(under_train_sample_indices)\n",
    "    # 下采样\n",
    "    under_train_sample_data = data.iloc[under_train_sample_indices,:]\n",
    "\n",
    "    X_train_undersample = under_train_sample_data.ix[:, under_train_sample_data.columns != 'Class']\n",
    "    y_train_undersample = under_train_sample_data.ix[:, under_train_sample_data.columns == 'Class']\n",
    "\n",
    "    return X_train_undersample, y_train_undersample, train_normal_pos"
   ]
  },
  {
   "cell_type": "code",
   "execution_count": null,
   "metadata": {
    "collapsed": true
   },
   "outputs": [],
   "source": []
  },
  {
   "cell_type": "code",
   "execution_count": null,
   "metadata": {
    "collapsed": true
   },
   "outputs": [],
   "source": []
  },
  {
   "cell_type": "code",
   "execution_count": null,
   "metadata": {
    "collapsed": true
   },
   "outputs": [],
   "source": []
  },
  {
   "cell_type": "code",
   "execution_count": null,
   "metadata": {
    "collapsed": true
   },
   "outputs": [],
   "source": []
  },
  {
   "cell_type": "code",
   "execution_count": null,
   "metadata": {
    "collapsed": true
   },
   "outputs": [],
   "source": []
  },
  {
   "cell_type": "code",
   "execution_count": null,
   "metadata": {
    "collapsed": true
   },
   "outputs": [],
   "source": []
  },
  {
   "cell_type": "markdown",
   "metadata": {},
   "source": [
    "***\n",
    "<center><h1>####答卷结束####</h1></center>"
   ]
  }
 ],
 "metadata": {
  "kernelspec": {
   "display_name": "Python 3",
   "language": "python",
   "name": "python3"
  },
  "language_info": {
   "codemirror_mode": {
    "name": "ipython",
    "version": 3
   },
   "file_extension": ".py",
   "mimetype": "text/x-python",
   "name": "python",
   "nbconvert_exporter": "python",
   "pygments_lexer": "ipython3",
   "version": "3.5.2"
  }
 },
 "nbformat": 4,
 "nbformat_minor": 2
}
