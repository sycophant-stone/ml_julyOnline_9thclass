{
 "cells": [
  {
   "cell_type": "markdown",
   "metadata": {},
   "source": [
    "## 七月在线机器学习九期第一周(机器学习基础)考试\n",
    "#### 考试说明:\n",
    "- 起止时间：请同学在2018年6月25日至7月2日期间完成，最晚提交时间（7月1日24时之前）结束，<b>逾期不接受补考,该考试分数计入平时成绩</b>\n",
    "- 考试方式：请同学<font color=red><b>拷贝</b></font>该试卷至自己姓名的目录后，将文件更名，即上同学姓名拼音后进行作答。格式：Week1Exam-WangWei.ipynb\n",
    "- 提交格式：请同学新建自己姓名全拼的文件夹，将该试卷，数据文件，zip文件等相关考试文件，放置此目录下。将该目录<b>移动</b>至/0.Teacher/Exam/1/目录下\n",
    "- 注意事项：为确保同学们真正了解自身对本周课程的掌握程度，<font color=red><b>请勿翻阅，移动，更改</b></font>其它同学试卷。如发现按0分处理\n",
    "- 请同学在下方同学姓名处填写自己的姓名，批改人和最终得分不用填写"
   ]
  },
  {
   "cell_type": "markdown",
   "metadata": {},
   "source": [
    "- 同学姓名:吴泽鑫\n",
    "- 批改人：   \n",
    "- 最终得分:"
   ]
  },
  {
   "cell_type": "markdown",
   "metadata": {},
   "source": [
    "<center><h1>####答卷开始####</h1></center>\n",
    "<hr>"
   ]
  },
  {
   "cell_type": "markdown",
   "metadata": {},
   "source": [
    "## 问答题(共10题，每题10分，共计100分)"
   ]
  },
  {
   "cell_type": "markdown",
   "metadata": {},
   "source": [
    "#### 1.请分别解释统计机器学习中的输入/输出空间，特征空间，假设空间与参数空间"
   ]
  },
  {
   "cell_type": "markdown",
   "metadata": {
    "collapsed": true
   },
   "source": [
    "- 输入空间：机器学习时的输入值的集合\n",
    "- 输出空间：机器学习时的输出值的集合\n",
    "- 特征空间：由输入空间内选取或经过变换后产生的特征值张成的空间\n",
    "- 假设空间：所有满足输入和输出的假设函数或映射的集合\n",
    "- 参数空间：假设空间中相关参数所构成的集合"
   ]
  },
  {
   "cell_type": "markdown",
   "metadata": {},
   "source": [
    "\n",
    "\n",
    "\n",
    "\n",
    "\n",
    "\n"
   ]
  },
  {
   "cell_type": "markdown",
   "metadata": {},
   "source": [
    "#### 2.什么是损失函数，并举例有哪些常用的损失函数？"
   ]
  },
  {
   "cell_type": "markdown",
   "metadata": {
    "collapsed": true
   },
   "source": [
    "+ 损失函数是指机器学习所得到的模型的预测值与真实值的不一致程度\n",
    "+ 常用的损失函数：log对数损失函数;平方损失函数;指数损失函数"
   ]
  },
  {
   "cell_type": "markdown",
   "metadata": {},
   "source": [
    "#### 3请结合公式进行说明结构风险最小化的含义？"
   ]
  },
  {
   "cell_type": "markdown",
   "metadata": {
    "collapsed": true
   },
   "source": [
    "结构风险最小化公式：\n",
    "$\\theta ^{*}=min\\frac{1}{N}\\sum_{i=1}^{N}L(y_{i},f(x_{i};\\theta _{i}))+\\lambda \\Phi (\\theta )$\n",
    "\n",
    "公式前半部分为$\\frac{1}{N}\\sum_{i=1}^{N}L(y_{i},f(x_{i};\\theta _{i}))$，代表经验风险损失，对N个样本取均值；\n",
    "\n",
    "后半部分为$\\lambda \\Phi (\\theta )$，代表正则项/惩罚项，此项的引入可约束模型的特征，使模型更加平滑，以获得更好的泛化能力。"
   ]
  },
  {
   "cell_type": "markdown",
   "metadata": {},
   "source": [
    "#### 4.谈谈什么是生成式模型与判别式模型，以及各自特点？"
   ]
  },
  {
   "cell_type": "markdown",
   "metadata": {
    "collapsed": true
   },
   "source": [
    "生成式模型是对X和y的联合分布$p(x,y)$建模，然后通过贝叶斯公式求得使得$p(y_{i}|x)$最大的$y_{i}$。即对不同分类建模，判断样本在各模型下的概率。可反映同类数据本身的相似度。\n",
    "\n",
    "判别式模型是直接对条件概率$p(y | x:\\theta)$建模，通过模型判定样本属于各分类的概率。反映不同类数据之间的差异。"
   ]
  },
  {
   "cell_type": "markdown",
   "metadata": {},
   "source": [
    "#### 5.请解释范数，并写出L1,L2范数的定义公式"
   ]
  },
  {
   "cell_type": "markdown",
   "metadata": {
    "collapsed": true
   },
   "source": [
    "范数表征的是样本之间的差异性，可用各种距离对样本的特征进行度量。\n",
    "\n",
    "L1范数：$\\left \\| x \\right \\|_{1}=\\sum_{i=1}^{n}\\left | x_{i} \\right |$\n",
    "\n",
    "L2范数：$\\left \\| x \\right \\|_{2}=\\sqrt{\\sum_{i=1}^{n} x_{i}^{2}} $，即欧式距离"
   ]
  },
  {
   "cell_type": "markdown",
   "metadata": {},
   "source": [
    "#### 6. 什么是信息熵，它的公式是？什么是信息增益?"
   ]
  },
  {
   "cell_type": "markdown",
   "metadata": {
    "collapsed": true
   },
   "source": [
    "信息熵表示随机事件所有结果的平均不确定性，可描述随机事件的无秩序程度。\n",
    "\n",
    "对于随机变量X,对于每个可能的取值$x_{i}$，其概率为$P(X=x_{i})=p_{i}, i=1,2,...,n$\n",
    "\n",
    "其熵$H(x)=-\\sum_{i=1}^{n} p_{i}log_{2}p_{i}$\n",
    "\n",
    "信息增益为样本的初始熵与样本集合划分后的熵的差值"
   ]
  },
  {
   "cell_type": "markdown",
   "metadata": {},
   "source": [
    "#### 7. 贝叶斯公式是什么？您如何理解贝叶斯思想？它与频率派有哪些区别？"
   ]
  },
  {
   "cell_type": "markdown",
   "metadata": {
    "collapsed": true
   },
   "source": [
    "贝叶斯公式可由全概率公式及条件概率公式推出，公式为\n",
    "\n",
    "$P(B_{i}|A)=\\frac{P(B_{i})P(A|B_{i})}{\\sum_{j=1}^{n}P(B_{j}P(A|B_{j}))}$\n",
    "\n",
    "贝叶斯公式引入了先验概率进而求解后验概率，因许多条件下后验概率无法直接得知。\n",
    "\n",
    "频率学派从足够多的实验出发计算概率，但无法确定足够多的数量，且在现实世界中大多数情况都无法计算概率\n",
    "贝叶斯学派则从先验概率入手，通过先验概率逐步修正后验概率，得到结果。"
   ]
  },
  {
   "cell_type": "markdown",
   "metadata": {},
   "source": [
    "#### 8.请从最大似然的角度去解释逻辑回归,以及逻辑回归的损失函数是什么？"
   ]
  },
  {
   "cell_type": "markdown",
   "metadata": {
    "collapsed": true
   },
   "source": [
    "最大似然是在给定一组结果后，判断哪一组参数出现给定结果的可能性最大，即条件概率。\n",
    "\n",
    "逻辑回归的损失函数为\n",
    "\n",
    "当y=1时，$cost(h_{\\theta}(x),y)=-log(h_{\\theta}(x))$\n",
    "\n",
    "当y=0时，$cost(h_{\\theta}(x),y)=-log(1-h_{\\theta}(x))$"
   ]
  },
  {
   "cell_type": "markdown",
   "metadata": {},
   "source": [
    "#### 9.试析Min-Max与Z-Score这两种数据缩放各自特点，和为什么树形结构不需要做缩放？"
   ]
  },
  {
   "cell_type": "markdown",
   "metadata": {
    "collapsed": true
   },
   "source": [
    "Min-Max是对原始数据进行线性变换，需获取属性的最小值和最大值，若插入一新样本，需重新对所有数据进行变换;\n",
    "\n",
    "Z-score是基于原始数据的均值和标准差进行数据标准化，标准化后处理的数据符合标准正态分布。\n",
    "\n",
    "树形结构内部不需对不同量纲的属性的数据之间进行计算，即仅对某属性内部进行区分，故而不做归一化亦不影响其结果。"
   ]
  },
  {
   "cell_type": "markdown",
   "metadata": {},
   "source": [
    "#### 10. 请解释下随机森林和Xgboost"
   ]
  },
  {
   "cell_type": "markdown",
   "metadata": {
    "collapsed": true
   },
   "source": [
    "随机森林是通过集成学习的思想将多棵独立的决策树进行投票表决的算法，基本单元是决策树。\n",
    "\n",
    "xgboost通过每棵CART树预测值之和作为最终预测值。"
   ]
  },
  {
   "cell_type": "markdown",
   "metadata": {},
   "source": [
    "***\n",
    "<center><h1>####答卷结束####</h1></center>"
   ]
  },
  {
   "cell_type": "markdown",
   "metadata": {},
   "source": [
    "### 本周课程意见反馈(非必答)\n",
    "请同学围绕以下两点进行回答：\n",
    "- 自身总结：您自己在本周课程的学习，收获，技能掌握等方面进行总结，包括自身在哪些方面存在哪些不足，欠缺，困惑。作为将来回顾学习路径时的依据。\n",
    "- 课程反馈：也可以就知识点，进度，难易度，教学方式，考试方式等等进行意见反馈，督促我们进行更有效的改进，为大家提供更优质的服务。"
   ]
  },
  {
   "cell_type": "markdown",
   "metadata": {
    "collapsed": true
   },
   "source": [
    "$\\phi \\Phi \\emptyset$"
   ]
  }
 ],
 "metadata": {
  "kernelspec": {
   "display_name": "Python 3",
   "language": "python",
   "name": "python3"
  },
  "language_info": {
   "codemirror_mode": {
    "name": "ipython",
    "version": 3
   },
   "file_extension": ".py",
   "mimetype": "text/x-python",
   "name": "python",
   "nbconvert_exporter": "python",
   "pygments_lexer": "ipython3",
   "version": "3.5.2"
  }
 },
 "nbformat": 4,
 "nbformat_minor": 2
}
