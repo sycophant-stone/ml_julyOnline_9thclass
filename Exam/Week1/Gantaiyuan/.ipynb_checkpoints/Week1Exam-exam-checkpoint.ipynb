{
 "cells": [
  {
   "cell_type": "markdown",
   "metadata": {},
   "source": [
    "## 七月在线机器学习九期第一周(机器学习基础)考试\n",
    "#### 考试说明:\n",
    "- 起止时间：请同学在2018年6月25日至7月2日期间完成，最晚提交时间（7月1日24时之前）结束，<b>逾期不接受补考,该考试分数计入平时成绩</b>\n",
    "- 考试方式：请同学<font color=red><b>拷贝</b></font>该试卷至自己姓名的目录后，将文件更名，即上同学姓名拼音后进行作答。格式：Week1Exam-WangWei.ipynb\n",
    "- 提交格式：请同学新建自己姓名全拼的文件夹，将该试卷，数据文件，zip文件等相关考试文件，放置此目录下。将该目录<b>移动</b>至/0.Teacher/Exam/1/目录下\n",
    "- 注意事项：为确保同学们真正了解自身对本周课程的掌握程度，<font color=red><b>请勿翻阅，移动，更改</b></font>其它同学试卷。如发现按0分处理\n",
    "- 请同学在下方同学姓名处填写自己的姓名，批改人和最终得分不用填写"
   ]
  },
  {
   "cell_type": "markdown",
   "metadata": {},
   "source": [
    "- 同学姓名:<u></u>  \n",
    "- 批改人：   \n",
    "- 最终得分:"
   ]
  },
  {
   "cell_type": "markdown",
   "metadata": {},
   "source": [
    "<center><h1>####答卷开始####</h1></center>\n",
    "<hr>"
   ]
  },
  {
   "cell_type": "markdown",
   "metadata": {},
   "source": [
    "## 问答题(共10题，每题10分，共计100分)"
   ]
  },
  {
   "cell_type": "markdown",
   "metadata": {},
   "source": [
    "#### 1.请分别解释统计机器学习中的输入/输出空间，特征空间，假设空间与参数空间"
   ]
  },
  {
   "cell_type": "markdown",
   "metadata": {
    "collapsed": true
   },
   "source": [
    "输入空间，输出空间：在监督学习中将输入与输出所有可能取值的集合称为输入空间与输出空间。  \n",
    "特征空间：每个具体的输入是一个实例，通常由特征向量表示，这是所有特征向量存在的空间称为特征空间  \n",
    "假设空间：监督学习的目的在于学习一个由输入到输出的映射，这个映射由模型来表示。模型属于属于输入空间到输入空间映射的集合，这个集合就是假设空间"
   ]
  },
  {
   "cell_type": "markdown",
   "metadata": {},
   "source": [
    "\n",
    "\n",
    "\n",
    "\n",
    "\n",
    "\n"
   ]
  },
  {
   "cell_type": "markdown",
   "metadata": {},
   "source": [
    "#### 2.什么是损失函数，并举例有哪些常用的损失函数？"
   ]
  },
  {
   "cell_type": "markdown",
   "metadata": {
    "collapsed": true
   },
   "source": [
    "损失函数用了评估模型预测值与真实值的误差值  \n",
    "常见损失函数  \n",
    "1. 0-1损失函数和绝对值损失函数：0-1损失是指，预测值和目标值不相等为1，否则为0。\n",
    "    \n",
    "   \n",
    "2. log对数损失函数 \n",
    "\n",
    "3. 平方损失函数\n",
    "\n",
    "4. 指数损失函数 \n",
    "\n",
    "5. Hinge损失函数 "
   ]
  },
  {
   "cell_type": "markdown",
   "metadata": {},
   "source": [
    "\n"
   ]
  },
  {
   "cell_type": "markdown",
   "metadata": {},
   "source": [
    "#### 3请结合公式进行说明结构风险最小化的含义？"
   ]
  },
  {
   "cell_type": "code",
   "execution_count": null,
   "metadata": {
    "collapsed": true
   },
   "outputs": [],
   "source": []
  },
  {
   "cell_type": "markdown",
   "metadata": {},
   "source": [
    "#### 4.谈谈什么是生成式模型与判别式模型，以及各自特点？"
   ]
  },
  {
   "cell_type": "markdown",
   "metadata": {
    "collapsed": true
   },
   "source": [
    "#### 定义\n",
    "生成式模型：生成模型由数据学习联合概率分布P(X,Y),然后求出条件概率分布P(Y,X)作为预测模型  \n",
    "判别式模型 由数据直接学习决策函数f(X)或者条件概率分布P(Y\\|X)作为预测模型  \n",
    "#### 特点\n",
    "生成式模型： \n",
    "1. 可以还原出联合概率分布P(X,Y); \n",
    "2. 学习收敛速度更快； \n",
    "3. 当存在隐变量时，仍可以用生成学习方法  \n",
    "\n",
    "判别式模型：\n",
    "1. 直接学的是条件概率或决策函数f(X),学习的准确率更高; \n",
    "2. 直接学习P(Y\\|X)或决策函数f(X),可以对数据进行各种程度的抽象、定义特征并使用特征，因此可以简化学习问题。"
   ]
  },
  {
   "cell_type": "markdown",
   "metadata": {},
   "source": [
    "#### 5.请解释范数，并写出L1,L2范数的定义公式"
   ]
  },
  {
   "cell_type": "markdown",
   "metadata": {
    "collapsed": true
   },
   "source": [
    "范数是指具有“长度”概念的函数。  \n",
    "L1范数： 向量元素的绝对值之和 \n",
    "$$ ||x||_{1} = \\sum_{i=1}^{n}|x_{i}| $$\n",
    "L2范数：向量绝对值的平方和再开方\n",
    "$$ ||x||_{2} = \\sqrt{\\sum_{i=1}^{n}x_{i}^{2}} $$"
   ]
  },
  {
   "cell_type": "markdown",
   "metadata": {},
   "source": [
    "#### 6. 什么是信息熵，它的公式是？什么是信息增益?"
   ]
  },
  {
   "cell_type": "markdown",
   "metadata": {
    "collapsed": true
   },
   "source": [
    "熵：表示随机变量不确定性的度量，定义为： $$H(X) = -\\sum_{i=1}^{n}p_{i}log(p_{i})$$\n",
    "信息：增益表示得知特征X的信息而使得类Y的信息的不确定性减少的程度"
   ]
  },
  {
   "cell_type": "markdown",
   "metadata": {},
   "source": [
    "#### 7. 贝叶斯公式是什么？您如何理解贝叶斯思想？它与频率派有哪些区别？"
   ]
  },
  {
   "cell_type": "markdown",
   "metadata": {
    "collapsed": true
   },
   "source": [
    "公式：$$P(A_{i}|B) = \\frac{P(B|A_{i})P(A_{i})}{\\sum_{i=1}^{n}P(B|A_{i})P(A_{i})}$$\n"
   ]
  },
  {
   "cell_type": "markdown",
   "metadata": {},
   "source": [
    "#### 8.请从最大似然的角度去解释逻辑回归,以及逻辑回归的损失函数是什么？"
   ]
  },
  {
   "cell_type": "markdown",
   "metadata": {
    "collapsed": true
   },
   "source": [
    "$F(X) = P(X\\leqslant x) = \\frac{1}{1+ e^{-(x-\\mu )/\\gamma }}$  \n",
    "然后二分类模型LR模型，是参数化的logistic分布，使用条件概率表示:  \n",
    "$P(Y = 1| x) == \\frac{e^{w\\cdot x}}{1+e^{w\\cdot x}}$  \n",
    "$P(Y = 0| x) == \\frac{1}{1+e^{w\\cdot x}}$  \n",
    "然后一个事件的几率（odds）:指该事件发生与不发生的概率比值：  \n",
    "$odds = \\frac{p}{1-p}$\n",
    "对数几率：  \n",
    "$loggit(p) = log\\frac{p}{1-p}$  \n",
    "对于逻辑回归而言，Y = 1的几率：  \n",
    "$log\\frac{P(Y = 1 | x)}{1-P(Y =1 | x)} = w\\cdot x$\n",
    "似然函数：  \n",
    "$L(w) = \\prod [\\pi (x_{i})]^{y_{i}}[1-\\pi (x_{i})]^{1-y_{i}} $  \n",
    "对数似然：\n",
    "$lnL(w) = \\sum [y_{i}ln\\pi(x_{i}) + (1-y_{i})ln(1-\\pi(x_{i}))] = \\sum [y_{i}(w\\cdot x_{i})-ln(1+e^{w\\cdot x_{i}})]$  \n",
    "对应损失函数：  \n",
    "$J(w) = - \\frac{1}{N}lnL(w)$"
   ]
  },
  {
   "cell_type": "markdown",
   "metadata": {},
   "source": [
    "#### 9.试析Min-Max与Z-Score这两种数据缩放各自特点，和为什么树形结构不需要做缩放？"
   ]
  },
  {
   "cell_type": "markdown",
   "metadata": {
    "collapsed": true
   },
   "source": [
    "min-Max: $ x^{*} = \\frac{x - min}{max - min}$  \n",
    "特点; 当有新数据加入时，可能导致max 和 min的变化需要重新定义  \n",
    "\n",
    "Z-Score: $x^{*} = \\frac{x - \\mu }{\\sigma }$  \n",
    "特点：\n",
    "1. 经过处理的数据复合正态分布，均值为0，标准差为1\n",
    "2. 区间不确定，处理后质变的最大值和最小值不相同\n",
    "3. 对于指标值恒定的情况不适用\n",
    "4. 对于标准化后数据大于 0 的评价方法（如集合加权平均法）不适用\n",
    "\n",
    "树形结构：\n",
    "对于树形结构，数值缩放不影响分裂点。因为第一步都是按照特征工值进行排序的，排序顺序不变，那么所属的分支以及分裂点就不会有不同。"
   ]
  },
  {
   "cell_type": "markdown",
   "metadata": {},
   "source": [
    "#### 10. 请解释下随机森林和Xgboost"
   ]
  },
  {
   "cell_type": "markdown",
   "metadata": {
    "collapsed": true
   },
   "source": [
    "随机森林：随机森林使用决策树作为基学习器，采用Bagging的思想，对原始训练集进行有放回采样选出mget样本，共进行n_tree次采样，对于n_tree个训练集，分别训练n_tree个决策树模型，对于单个决策树模型根据信息增益/信息增益比/基尼指数选取最好的特征进行分裂，每棵树树都进行分裂，知道该节点的所有的训练样例都术语一类。将生成的多棵决策树组成随机森林。  \n",
    "Xgboost: "
   ]
  },
  {
   "cell_type": "markdown",
   "metadata": {},
   "source": [
    "***\n",
    "<center><h1>####答卷结束####</h1></center>"
   ]
  },
  {
   "cell_type": "markdown",
   "metadata": {},
   "source": [
    "### 本周课程意见反馈(非必答)\n",
    "请同学围绕以下两点进行回答：\n",
    "- 自身总结：您自己在本周课程的学习，收获，技能掌握等方面进行总结，包括自身在哪些方面存在哪些不足，欠缺，困惑。作为将来回顾学习路径时的依据。\n",
    "- 课程反馈：也可以就知识点，进度，难易度，教学方式，考试方式等等进行意见反馈，督促我们进行更有效的改进，为大家提供更优质的服务。"
   ]
  },
  {
   "cell_type": "code",
   "execution_count": null,
   "metadata": {
    "collapsed": true
   },
   "outputs": [],
   "source": []
  }
 ],
 "metadata": {
  "kernelspec": {
   "display_name": "Python 3",
   "language": "python",
   "name": "python3"
  },
  "language_info": {
   "codemirror_mode": {
    "name": "ipython",
    "version": 3
   },
   "file_extension": ".py",
   "mimetype": "text/x-python",
   "name": "python",
   "nbconvert_exporter": "python",
   "pygments_lexer": "ipython3",
   "version": "3.5.2"
  }
 },
 "nbformat": 4,
 "nbformat_minor": 2
}
