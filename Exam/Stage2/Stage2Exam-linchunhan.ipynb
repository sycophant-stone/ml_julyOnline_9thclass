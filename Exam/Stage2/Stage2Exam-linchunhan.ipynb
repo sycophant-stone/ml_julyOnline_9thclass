{
 "cells": [
  {
   "cell_type": "markdown",
   "metadata": {},
   "source": [
    "## 七月在线机器学习第九期第二阶段考试\n",
    "#### 考试说明:\n",
    "- 起止时间：请同学在2018年7月11日至7月18日期间完成，最晚提交时间（7月18日24时之前）结束，<b>逾期不接受补考,该考试分数计入平时成绩</b>\n",
    "- 考试方式：请同学将该试卷进行复制后，改名为自己姓名后，如State2Exam-WangWei.ipynb，<b>移动</b>至/0.Teacher/Exam/Stage2/目录下后，进行答题。\n",
    "- 注意事项：为确保同学们真正了解自身对本周课程的掌握程度，<font color=red><b>请勿翻阅，移动，更改</b></font>其它同学试卷。如发现按0分处理\n",
    "- 请同学在下方同学姓名处填写自己的姓名，批改人和最终得分不用填写"
   ]
  },
  {
   "cell_type": "markdown",
   "metadata": {},
   "source": [
    "- 同学姓名:\n",
    "- 批改人：   \n",
    "- 最终得分:"
   ]
  },
  {
   "cell_type": "markdown",
   "metadata": {},
   "source": [
    "<center><h1>####答卷开始####</h1></center>\n",
    "<hr>"
   ]
  },
  {
   "cell_type": "markdown",
   "metadata": {},
   "source": [
    "## 问答题(共5题，每题10分，共计50分)"
   ]
  },
  {
   "cell_type": "markdown",
   "metadata": {},
   "source": [
    "#### 1. 请写出你了解的机器学习特征工程操作都有哪些，及它们的具体实现？"
   ]
  },
  {
   "cell_type": "markdown",
   "metadata": {
    "collapsed": true
   },
   "source": [
    "1、幅度缩放\n",
    "2、添加统计特征\n",
    "3、离散化\n",
    "4、独热向量编码\n",
    "5、日期时间变换\n",
    "6、组合特征\n",
    "7、交叉特征\n",
    "8、缺失值处理\n",
    "9、文本处理（TF-IDF）"
   ]
  },
  {
   "cell_type": "markdown",
   "metadata": {},
   "source": [
    "#### 2.模型评估中的留一法，留出法，交叉验证分别是什么操作？"
   ]
  },
  {
   "cell_type": "markdown",
   "metadata": {
    "collapsed": true
   },
   "source": [
    "### 留一法\n",
    "每次只留下一个样本做测试集，其余做训练集<br>\n",
    "### 流出法\n",
    "将样本分成两份，1份作为测试集，1份作为训练集<br>\n",
    "### 交叉验证\n",
    "将样本分成k份，从k份中选择一份作为测试集，k-1份作为训练集\n"
   ]
  },
  {
   "cell_type": "markdown",
   "metadata": {},
   "source": [
    "#### 3.网格搜索交叉验证的作用是什么，并简述网格搜索交叉验证是如何运行的？"
   ]
  },
  {
   "cell_type": "markdown",
   "metadata": {
    "collapsed": true
   },
   "source": [
    "网格搜索的作用时寻找最佳的超参数（通过遍历设置的参数组合）<br>\n",
    "交叉验证的作用是测试模型的泛化能力"
   ]
  },
  {
   "cell_type": "markdown",
   "metadata": {},
   "source": [
    "#### 4.工业界上模型融合有三大类方式？试简述每类方式其思想？"
   ]
  },
  {
   "cell_type": "markdown",
   "metadata": {
    "collapsed": true
   },
   "source": [
    "### bagging\n",
    "有放回抽样，抽取k个样本，训练处一个学习器，重复操作直到达到设置的条件，最终结果分类用投票法，回归用平均\n",
    "### stacking\n",
    "将训练集分为两个不相交的两部分，第一部分用于训练第一层学习器，用第二部分数据在第一层学习器的输出训练第二层学习器，最终得到输出结果\n",
    "### boosting\n",
    "用训练集测试弱学习器，改变正确错误样本的权重（adaboost）重新训练第二个弱学习器，是一个加法模型"
   ]
  },
  {
   "cell_type": "markdown",
   "metadata": {},
   "source": [
    "#### 5.Early Stopping指的是什么？与它相关的概念有哪些？它们在实际项目中如何被运用？"
   ]
  },
  {
   "cell_type": "markdown",
   "metadata": {
    "collapsed": true
   },
   "source": [
    "用来避免训练模型时候的过拟合，即在训练模型时使用一种迭代方法，比如梯度下降。随着epoch增加，如果在测试集上发现测试误差上升，则停止训练，为了防止过拟合。\n",
    "其通过学习曲线验证模型状态，如果发现模型过拟合通过增加数据集、加大正则化系数、对特征进行选择、模型同和等方式进行处理\n",
    "这些方法可以用来更新（训练）模型，使得它可以在每次迭代中更好的拟合训练数据。训练模型直到到达一个点，这会改善（模型）在训练集之外的表现。过了这个点（最优点），在改善模型（表现的）过程中，会带来更多的错误。\n",
    "基于验证集的过拟合 这种过拟合规则主要用于将原始训练数据集切分成新的训练集和验证集时。当过拟合的时候，验证集上的错误率 被用来代替错误（作为评判标准）。"
   ]
  },
  {
   "cell_type": "markdown",
   "metadata": {},
   "source": [
    "## 代码题(共1题，共计50分)"
   ]
  },
  {
   "cell_type": "markdown",
   "metadata": {
    "collapsed": true
   },
   "source": [
    "#### 1.使用XGBoost的sklearn接口，对KaggleCredit2数据完成信用卡欺诈项目的建模及分析\n",
    "- 要求以不同参数设置xgboost运行并进行效果比对,记录，最后给出实验报告\n",
    "\n",
    "- KaggleCredit2数据文件 位于/home/ml9/0.Teacher/Data，请勿复制或移动"
   ]
  },
  {
   "cell_type": "markdown",
   "metadata": {},
   "source": []
  },
  {
   "cell_type": "markdown",
   "metadata": {},
   "source": [
    "***\n",
    "<center><h1>####答卷结束####</h1></center>"
   ]
  }
 ],
 "metadata": {
  "kernelspec": {
   "display_name": "Python 3",
   "language": "python",
   "name": "python3"
  },
  "language_info": {
   "codemirror_mode": {
    "name": "ipython",
    "version": 3
   },
   "file_extension": ".py",
   "mimetype": "text/x-python",
   "name": "python",
   "nbconvert_exporter": "python",
   "pygments_lexer": "ipython3",
   "version": "3.5.2"
  }
 },
 "nbformat": 4,
 "nbformat_minor": 2
}
